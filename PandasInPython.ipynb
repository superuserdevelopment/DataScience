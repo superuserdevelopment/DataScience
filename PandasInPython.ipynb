{
 "cells": [
  {
   "cell_type": "markdown",
   "metadata": {},
   "source": [
    "# Series in Pandas"
   ]
  },
  {
   "cell_type": "code",
   "execution_count": 2,
   "metadata": {},
   "outputs": [
    {
     "name": "stdout",
     "output_type": "stream",
     "text": [
      "0    100\n",
      "1    200\n",
      "2    300\n",
      "dtype: int64\n"
     ]
    }
   ],
   "source": [
    "import pandas as pd\n",
    "s = pd.Series([100,200,300])\n",
    "print(s)"
   ]
  },
  {
   "cell_type": "markdown",
   "metadata": {},
   "source": [
    "# Adding custom indexes to Series in pandas"
   ]
  },
  {
   "cell_type": "code",
   "execution_count": 7,
   "metadata": {},
   "outputs": [
    {
     "name": "stdout",
     "output_type": "stream",
     "text": [
      "one      100\n",
      "two      200\n",
      "three    300\n",
      "dtype: int64\n"
     ]
    }
   ],
   "source": [
    "s = pd.Series([100,200,300],index = ['one','two','three'])\n",
    "print(s)"
   ]
  },
  {
   "cell_type": "markdown",
   "metadata": {},
   "source": [
    "# Passing dictionaries to Series"
   ]
  },
  {
   "cell_type": "code",
   "execution_count": 5,
   "metadata": {},
   "outputs": [
    {
     "data": {
      "text/plain": [
       "hello          hi\n",
       "what's up    ssup\n",
       "high five     hi5\n",
       "dtype: object"
      ]
     },
     "execution_count": 5,
     "metadata": {},
     "output_type": "execute_result"
    }
   ],
   "source": [
    "d = {'hello' : 'hi', 'what\\'s up' : 'ssup', 'high five' : 'hi5'}\n",
    "d\n",
    "s = pd.Series(d)\n",
    "s"
   ]
  },
  {
   "cell_type": "markdown",
   "metadata": {},
   "source": [
    "# Indexing in Series\n",
    ".loc[] and .iloc[] are attributes and not functions hence no ()"
   ]
  },
  {
   "cell_type": "code",
   "execution_count": 18,
   "metadata": {},
   "outputs": [
    {
     "name": "stdout",
     "output_type": "stream",
     "text": [
      "hi\n",
      "hi5\n"
     ]
    }
   ],
   "source": [
    "# Indexing  using keys\n",
    "print(s.loc['hello'])\n",
    "# Indexing using index numbers\n",
    "print(s.iloc[2])"
   ]
  },
  {
   "cell_type": "markdown",
   "metadata": {},
   "source": [
    "# Arithmetic operations on Series"
   ]
  },
  {
   "cell_type": "code",
   "execution_count": 6,
   "metadata": {},
   "outputs": [
    {
     "name": "stdout",
     "output_type": "stream",
     "text": [
      "415 µs ± 43.7 µs per loop (mean ± std. dev. of 7 runs, 100 loops each)\n"
     ]
    }
   ],
   "source": [
    "%%timeit -n 100\n",
    "s = pd.Series(d)\n",
    "s+='1'\n",
    "\n",
    "len(s)"
   ]
  },
  {
   "cell_type": "markdown",
   "metadata": {},
   "source": [
    "# Dataframes in Pandas\n",
    "Used for primarily data cleansing. Double dimentional data structure\n",
    "Inputing data as a series of dictionaries"
   ]
  },
  {
   "cell_type": "code",
   "execution_count": 46,
   "metadata": {},
   "outputs": [
    {
     "data": {
      "text/html": [
       "<div>\n",
       "<style scoped>\n",
       "    .dataframe tbody tr th:only-of-type {\n",
       "        vertical-align: middle;\n",
       "    }\n",
       "\n",
       "    .dataframe tbody tr th {\n",
       "        vertical-align: top;\n",
       "    }\n",
       "\n",
       "    .dataframe thead th {\n",
       "        text-align: right;\n",
       "    }\n",
       "</style>\n",
       "<table border=\"1\" class=\"dataframe\">\n",
       "  <thead>\n",
       "    <tr style=\"text-align: right;\">\n",
       "      <th></th>\n",
       "      <th>Name</th>\n",
       "      <th>Item Purchased</th>\n",
       "      <th>Cost</th>\n",
       "    </tr>\n",
       "  </thead>\n",
       "  <tbody>\n",
       "    <tr>\n",
       "      <td>Store 1</td>\n",
       "      <td>Chris</td>\n",
       "      <td>Dog Food</td>\n",
       "      <td>22.5</td>\n",
       "    </tr>\n",
       "    <tr>\n",
       "      <td>Store 2</td>\n",
       "      <td>Kevyn</td>\n",
       "      <td>Cat Food</td>\n",
       "      <td>25.5</td>\n",
       "    </tr>\n",
       "    <tr>\n",
       "      <td>Store 3</td>\n",
       "      <td>Vinod</td>\n",
       "      <td>Bird Food</td>\n",
       "      <td>27.5</td>\n",
       "    </tr>\n",
       "  </tbody>\n",
       "</table>\n",
       "</div>"
      ],
      "text/plain": [
       "          Name Item Purchased  Cost\n",
       "Store 1  Chris       Dog Food  22.5\n",
       "Store 2  Kevyn       Cat Food  25.5\n",
       "Store 3  Vinod      Bird Food  27.5"
      ]
     },
     "execution_count": 46,
     "metadata": {},
     "output_type": "execute_result"
    }
   ],
   "source": [
    "import pandas as pd\n",
    "# data as a number of series\n",
    "purchase1 = pd.Series({'Name':'Chris','Item Purchased':'Dog Food','Cost':22.50})\n",
    "purchase2 = pd.Series({'Name':'Kevyn','Item Purchased':'Cat Food','Cost':25.50})\n",
    "purchase3 = pd.Series({'Name':'Vinod','Item Purchased':'Bird Food','Cost':27.50})\n",
    "df = pd.DataFrame([purchase1, purchase2, purchase3],index=['Store 1','Store 2','Store 3'])\n",
    "df"
   ]
  },
  {
   "cell_type": "code",
   "execution_count": 17,
   "metadata": {},
   "outputs": [
    {
     "name": "stdout",
     "output_type": "stream",
     "text": [
      "Dog Food\n",
      "Cat Food\n",
      "Bird Food\n"
     ]
    }
   ],
   "source": [
    "print(df.loc['Store 1'].loc['Item Purchased'])\n",
    "print(df.loc['Store 2'].loc['Item Purchased'])\n",
    "print(df.loc['Store 3'].loc['Item Purchased'])"
   ]
  },
  {
   "cell_type": "code",
   "execution_count": 14,
   "metadata": {},
   "outputs": [
    {
     "name": "stdout",
     "output_type": "stream",
     "text": [
      "Store 1     Dog Food\n",
      "Store 2     Cat Food\n",
      "Store 3    Bird Food\n",
      "Name: Item Purchased, dtype: object\n"
     ]
    }
   ],
   "source": [
    "#MEthod 2\n",
    "print(df['Item Purchased'])\n",
    "# Here 'Item Purchased is a column and hence can be printed directly'"
   ]
  },
  {
   "cell_type": "markdown",
   "metadata": {},
   "source": [
    "# Finding transpose"
   ]
  },
  {
   "cell_type": "code",
   "execution_count": 15,
   "metadata": {},
   "outputs": [
    {
     "data": {
      "text/html": [
       "<div>\n",
       "<style scoped>\n",
       "    .dataframe tbody tr th:only-of-type {\n",
       "        vertical-align: middle;\n",
       "    }\n",
       "\n",
       "    .dataframe tbody tr th {\n",
       "        vertical-align: top;\n",
       "    }\n",
       "\n",
       "    .dataframe thead th {\n",
       "        text-align: right;\n",
       "    }\n",
       "</style>\n",
       "<table border=\"1\" class=\"dataframe\">\n",
       "  <thead>\n",
       "    <tr style=\"text-align: right;\">\n",
       "      <th></th>\n",
       "      <th>Store 1</th>\n",
       "      <th>Store 2</th>\n",
       "      <th>Store 3</th>\n",
       "    </tr>\n",
       "  </thead>\n",
       "  <tbody>\n",
       "    <tr>\n",
       "      <td>Name</td>\n",
       "      <td>Chris</td>\n",
       "      <td>Kevyn</td>\n",
       "      <td>Vinod</td>\n",
       "    </tr>\n",
       "    <tr>\n",
       "      <td>Item Purchased</td>\n",
       "      <td>Dog Food</td>\n",
       "      <td>Cat Food</td>\n",
       "      <td>Bird Food</td>\n",
       "    </tr>\n",
       "    <tr>\n",
       "      <td>Cost</td>\n",
       "      <td>22.5</td>\n",
       "      <td>25.5</td>\n",
       "      <td>27.5</td>\n",
       "    </tr>\n",
       "  </tbody>\n",
       "</table>\n",
       "</div>"
      ],
      "text/plain": [
       "                 Store 1   Store 2    Store 3\n",
       "Name               Chris     Kevyn      Vinod\n",
       "Item Purchased  Dog Food  Cat Food  Bird Food\n",
       "Cost                22.5      25.5       27.5"
      ]
     },
     "execution_count": 15,
     "metadata": {},
     "output_type": "execute_result"
    }
   ],
   "source": [
    "df.T"
   ]
  },
  {
   "cell_type": "markdown",
   "metadata": {},
   "source": [
    "# Deleting Rows/Columns"
   ]
  },
  {
   "cell_type": "markdown",
   "metadata": {},
   "source": [
    "Removing Rows"
   ]
  },
  {
   "cell_type": "code",
   "execution_count": 18,
   "metadata": {},
   "outputs": [
    {
     "data": {
      "text/html": [
       "<div>\n",
       "<style scoped>\n",
       "    .dataframe tbody tr th:only-of-type {\n",
       "        vertical-align: middle;\n",
       "    }\n",
       "\n",
       "    .dataframe tbody tr th {\n",
       "        vertical-align: top;\n",
       "    }\n",
       "\n",
       "    .dataframe thead th {\n",
       "        text-align: right;\n",
       "    }\n",
       "</style>\n",
       "<table border=\"1\" class=\"dataframe\">\n",
       "  <thead>\n",
       "    <tr style=\"text-align: right;\">\n",
       "      <th></th>\n",
       "      <th>Name</th>\n",
       "      <th>Item Purchased</th>\n",
       "      <th>Cost</th>\n",
       "    </tr>\n",
       "  </thead>\n",
       "  <tbody>\n",
       "    <tr>\n",
       "      <td>Store 2</td>\n",
       "      <td>Kevyn</td>\n",
       "      <td>Cat Food</td>\n",
       "      <td>25.5</td>\n",
       "    </tr>\n",
       "    <tr>\n",
       "      <td>Store 3</td>\n",
       "      <td>Vinod</td>\n",
       "      <td>Bird Food</td>\n",
       "      <td>27.5</td>\n",
       "    </tr>\n",
       "  </tbody>\n",
       "</table>\n",
       "</div>"
      ],
      "text/plain": [
       "          Name Item Purchased  Cost\n",
       "Store 2  Kevyn       Cat Food  25.5\n",
       "Store 3  Vinod      Bird Food  27.5"
      ]
     },
     "execution_count": 18,
     "metadata": {},
     "output_type": "execute_result"
    }
   ],
   "source": [
    "df.drop('Store 1')\n",
    "# This will just return a copy of the dataframe without the given row and no changes are made to the original dataframes"
   ]
  },
  {
   "cell_type": "markdown",
   "metadata": {},
   "source": [
    "Removing Columns"
   ]
  },
  {
   "cell_type": "code",
   "execution_count": 35,
   "metadata": {},
   "outputs": [
    {
     "data": {
      "text/html": [
       "<div>\n",
       "<style scoped>\n",
       "    .dataframe tbody tr th:only-of-type {\n",
       "        vertical-align: middle;\n",
       "    }\n",
       "\n",
       "    .dataframe tbody tr th {\n",
       "        vertical-align: top;\n",
       "    }\n",
       "\n",
       "    .dataframe thead th {\n",
       "        text-align: right;\n",
       "    }\n",
       "</style>\n",
       "<table border=\"1\" class=\"dataframe\">\n",
       "  <thead>\n",
       "    <tr style=\"text-align: right;\">\n",
       "      <th></th>\n",
       "      <th>Item Purchased</th>\n",
       "    </tr>\n",
       "  </thead>\n",
       "  <tbody>\n",
       "    <tr>\n",
       "      <td>Store 1</td>\n",
       "      <td>Dog Food</td>\n",
       "    </tr>\n",
       "    <tr>\n",
       "      <td>Store 2</td>\n",
       "      <td>Cat Food</td>\n",
       "    </tr>\n",
       "    <tr>\n",
       "      <td>Store 3</td>\n",
       "      <td>Bird Food</td>\n",
       "    </tr>\n",
       "  </tbody>\n",
       "</table>\n",
       "</div>"
      ],
      "text/plain": [
       "        Item Purchased\n",
       "Store 1       Dog Food\n",
       "Store 2       Cat Food\n",
       "Store 3      Bird Food"
      ]
     },
     "execution_count": 35,
     "metadata": {},
     "output_type": "execute_result"
    }
   ],
   "source": [
    "df.drop('Name',1)"
   ]
  },
  {
   "cell_type": "code",
   "execution_count": 23,
   "metadata": {},
   "outputs": [
    {
     "data": {
      "text/html": [
       "<div>\n",
       "<style scoped>\n",
       "    .dataframe tbody tr th:only-of-type {\n",
       "        vertical-align: middle;\n",
       "    }\n",
       "\n",
       "    .dataframe tbody tr th {\n",
       "        vertical-align: top;\n",
       "    }\n",
       "\n",
       "    .dataframe thead th {\n",
       "        text-align: right;\n",
       "    }\n",
       "</style>\n",
       "<table border=\"1\" class=\"dataframe\">\n",
       "  <thead>\n",
       "    <tr style=\"text-align: right;\">\n",
       "      <th></th>\n",
       "      <th>Name</th>\n",
       "      <th>Item Purchased</th>\n",
       "      <th>Cost</th>\n",
       "    </tr>\n",
       "  </thead>\n",
       "  <tbody>\n",
       "    <tr>\n",
       "      <td>Store 1</td>\n",
       "      <td>Chris</td>\n",
       "      <td>Dog Food</td>\n",
       "      <td>22.5</td>\n",
       "    </tr>\n",
       "    <tr>\n",
       "      <td>Store 2</td>\n",
       "      <td>Kevyn</td>\n",
       "      <td>Cat Food</td>\n",
       "      <td>25.5</td>\n",
       "    </tr>\n",
       "    <tr>\n",
       "      <td>Store 3</td>\n",
       "      <td>Vinod</td>\n",
       "      <td>Bird Food</td>\n",
       "      <td>27.5</td>\n",
       "    </tr>\n",
       "  </tbody>\n",
       "</table>\n",
       "</div>"
      ],
      "text/plain": [
       "          Name Item Purchased  Cost\n",
       "Store 1  Chris       Dog Food  22.5\n",
       "Store 2  Kevyn       Cat Food  25.5\n",
       "Store 3  Vinod      Bird Food  27.5"
      ]
     },
     "execution_count": 23,
     "metadata": {},
     "output_type": "execute_result"
    }
   ],
   "source": [
    "df"
   ]
  },
  {
   "cell_type": "markdown",
   "metadata": {},
   "source": [
    "Deletion Method 1"
   ]
  },
  {
   "cell_type": "code",
   "execution_count": 42,
   "metadata": {},
   "outputs": [
    {
     "data": {
      "text/html": [
       "<div>\n",
       "<style scoped>\n",
       "    .dataframe tbody tr th:only-of-type {\n",
       "        vertical-align: middle;\n",
       "    }\n",
       "\n",
       "    .dataframe tbody tr th {\n",
       "        vertical-align: top;\n",
       "    }\n",
       "\n",
       "    .dataframe thead th {\n",
       "        text-align: right;\n",
       "    }\n",
       "</style>\n",
       "<table border=\"1\" class=\"dataframe\">\n",
       "  <thead>\n",
       "    <tr style=\"text-align: right;\">\n",
       "      <th></th>\n",
       "      <th>Name</th>\n",
       "      <th>Item Purchased</th>\n",
       "    </tr>\n",
       "  </thead>\n",
       "  <tbody>\n",
       "    <tr>\n",
       "      <td>Store 1</td>\n",
       "      <td>Chris</td>\n",
       "      <td>Dog Food</td>\n",
       "    </tr>\n",
       "    <tr>\n",
       "      <td>Store 2</td>\n",
       "      <td>Kevyn</td>\n",
       "      <td>Cat Food</td>\n",
       "    </tr>\n",
       "    <tr>\n",
       "      <td>Store 3</td>\n",
       "      <td>Vinod</td>\n",
       "      <td>Bird Food</td>\n",
       "    </tr>\n",
       "  </tbody>\n",
       "</table>\n",
       "</div>"
      ],
      "text/plain": [
       "          Name Item Purchased\n",
       "Store 1  Chris       Dog Food\n",
       "Store 2  Kevyn       Cat Food\n",
       "Store 3  Vinod      Bird Food"
      ]
     },
     "execution_count": 42,
     "metadata": {},
     "output_type": "execute_result"
    }
   ],
   "source": [
    "df = df.copy().drop('Cost',1)\n",
    "df"
   ]
  },
  {
   "cell_type": "markdown",
   "metadata": {},
   "source": [
    "Deletion Method 2"
   ]
  },
  {
   "cell_type": "code",
   "execution_count": 47,
   "metadata": {},
   "outputs": [
    {
     "data": {
      "text/html": [
       "<div>\n",
       "<style scoped>\n",
       "    .dataframe tbody tr th:only-of-type {\n",
       "        vertical-align: middle;\n",
       "    }\n",
       "\n",
       "    .dataframe tbody tr th {\n",
       "        vertical-align: top;\n",
       "    }\n",
       "\n",
       "    .dataframe thead th {\n",
       "        text-align: right;\n",
       "    }\n",
       "</style>\n",
       "<table border=\"1\" class=\"dataframe\">\n",
       "  <thead>\n",
       "    <tr style=\"text-align: right;\">\n",
       "      <th></th>\n",
       "      <th>Name</th>\n",
       "      <th>Cost</th>\n",
       "    </tr>\n",
       "  </thead>\n",
       "  <tbody>\n",
       "    <tr>\n",
       "      <td>Store 1</td>\n",
       "      <td>Chris</td>\n",
       "      <td>22.5</td>\n",
       "    </tr>\n",
       "    <tr>\n",
       "      <td>Store 2</td>\n",
       "      <td>Kevyn</td>\n",
       "      <td>25.5</td>\n",
       "    </tr>\n",
       "    <tr>\n",
       "      <td>Store 3</td>\n",
       "      <td>Vinod</td>\n",
       "      <td>27.5</td>\n",
       "    </tr>\n",
       "  </tbody>\n",
       "</table>\n",
       "</div>"
      ],
      "text/plain": [
       "          Name  Cost\n",
       "Store 1  Chris  22.5\n",
       "Store 2  Kevyn  25.5\n",
       "Store 3  Vinod  27.5"
      ]
     },
     "execution_count": 47,
     "metadata": {},
     "output_type": "execute_result"
    }
   ],
   "source": [
    "del df['Item Purchased']\n",
    "df"
   ]
  },
  {
   "cell_type": "markdown",
   "metadata": {},
   "source": [
    "# Querying a DataFrame"
   ]
  },
  {
   "cell_type": "code",
   "execution_count": null,
   "metadata": {},
   "outputs": [],
   "source": [
    "import pandas as pd\n",
    "# data as a number of series\n",
    "purchase1 = pd.Series({'Name':'Chris','Item Purchased':'Dog Food','Cost':22.50})\n",
    "purchase2 = pd.Series({'Name':'Kevyn','Item Purchased':'Cat Food','Cost':25.50})\n",
    "purchase3 = pd.Series({'Name':'Vinod','Item Purchased':'Bird Food','Cost':27.50})\n",
    "df = pd.DataFrame([purchase1, purchase2, purchase3],index=['Store 1','Store 2','Store 3'])\n",
    "df"
   ]
  },
  {
   "cell_type": "markdown",
   "metadata": {},
   "source": [
    "Selecting data from a data frames based on a particular condition"
   ]
  },
  {
   "cell_type": "code",
   "execution_count": 95,
   "metadata": {},
   "outputs": [
    {
     "data": {
      "text/html": [
       "<div>\n",
       "<style scoped>\n",
       "    .dataframe tbody tr th:only-of-type {\n",
       "        vertical-align: middle;\n",
       "    }\n",
       "\n",
       "    .dataframe tbody tr th {\n",
       "        vertical-align: top;\n",
       "    }\n",
       "\n",
       "    .dataframe thead th {\n",
       "        text-align: right;\n",
       "    }\n",
       "</style>\n",
       "<table border=\"1\" class=\"dataframe\">\n",
       "  <thead>\n",
       "    <tr style=\"text-align: right;\">\n",
       "      <th></th>\n",
       "      <th>URL</th>\n",
       "      <th>ID</th>\n",
       "      <th>Name</th>\n",
       "      <th>Subtitle</th>\n",
       "      <th>Icon URL</th>\n",
       "      <th>Average User Rating</th>\n",
       "      <th>User Rating Count</th>\n",
       "      <th>Price</th>\n",
       "      <th>In-app Purchases</th>\n",
       "      <th>Description</th>\n",
       "      <th>Developer</th>\n",
       "      <th>Age Rating</th>\n",
       "      <th>Languages</th>\n",
       "      <th>Size</th>\n",
       "      <th>Primary Genre</th>\n",
       "      <th>Genres</th>\n",
       "      <th>Original Release Date</th>\n",
       "      <th>Current Version Release Date</th>\n",
       "    </tr>\n",
       "  </thead>\n",
       "  <tbody>\n",
       "    <tr>\n",
       "      <td>0</td>\n",
       "      <td>https://apps.apple.com/us/app/sudoku/id284921427</td>\n",
       "      <td>284921427</td>\n",
       "      <td>Sudoku</td>\n",
       "      <td>NaN</td>\n",
       "      <td>https://is2-ssl.mzstatic.com/image/thumb/Purpl...</td>\n",
       "      <td>4.0</td>\n",
       "      <td>3553.0</td>\n",
       "      <td>2.99</td>\n",
       "      <td>NaN</td>\n",
       "      <td>Join over 21,000,000 of our fans and download ...</td>\n",
       "      <td>Mighty Mighty Good Games</td>\n",
       "      <td>4+</td>\n",
       "      <td>DA, NL, EN, FI, FR, DE, IT, JA, KO, NB, PL, PT...</td>\n",
       "      <td>15853568.0</td>\n",
       "      <td>Games</td>\n",
       "      <td>Games, Strategy, Puzzle</td>\n",
       "      <td>11/07/2008</td>\n",
       "      <td>30/05/2017</td>\n",
       "    </tr>\n",
       "    <tr>\n",
       "      <td>24</td>\n",
       "      <td>https://apps.apple.com/us/app/boomshine/id2922...</td>\n",
       "      <td>292242592</td>\n",
       "      <td>Boomshine</td>\n",
       "      <td>NaN</td>\n",
       "      <td>https://is3-ssl.mzstatic.com/image/thumb/Purpl...</td>\n",
       "      <td>4.0</td>\n",
       "      <td>637.0</td>\n",
       "      <td>0.99</td>\n",
       "      <td>NaN</td>\n",
       "      <td>Boomshine is an addictive casual game. Touch t...</td>\n",
       "      <td>TwoDesk Software Company</td>\n",
       "      <td>4+</td>\n",
       "      <td>EN</td>\n",
       "      <td>22873088.0</td>\n",
       "      <td>Games</td>\n",
       "      <td>Games, Puzzle, Entertainment, Strategy</td>\n",
       "      <td>7/10/2008</td>\n",
       "      <td>20/05/2017</td>\n",
       "    </tr>\n",
       "    <tr>\n",
       "      <td>26</td>\n",
       "      <td>https://apps.apple.com/us/app/fieldrunners/id2...</td>\n",
       "      <td>292421271</td>\n",
       "      <td>Fieldrunners</td>\n",
       "      <td>NaN</td>\n",
       "      <td>https://is1-ssl.mzstatic.com/image/thumb/Purpl...</td>\n",
       "      <td>4.0</td>\n",
       "      <td>41869.0</td>\n",
       "      <td>2.99</td>\n",
       "      <td>0.99, 0.99, 0.99, 0.99</td>\n",
       "      <td>OVERVIEW\\n\\nThe invasion begins!  Pint sized s...</td>\n",
       "      <td>Subatomic Studios, LLC</td>\n",
       "      <td>9+</td>\n",
       "      <td>EN</td>\n",
       "      <td>75041792.0</td>\n",
       "      <td>Games</td>\n",
       "      <td>Games, Entertainment, Action, Strategy</td>\n",
       "      <td>5/10/2008</td>\n",
       "      <td>11/04/2018</td>\n",
       "    </tr>\n",
       "    <tr>\n",
       "      <td>30</td>\n",
       "      <td>https://apps.apple.com/us/app/expert-sudoku/id...</td>\n",
       "      <td>294193726</td>\n",
       "      <td>Expert Sudoku</td>\n",
       "      <td>NaN</td>\n",
       "      <td>https://is1-ssl.mzstatic.com/image/thumb/Purpl...</td>\n",
       "      <td>4.0</td>\n",
       "      <td>523.0</td>\n",
       "      <td>2.99</td>\n",
       "      <td>NaN</td>\n",
       "      <td>Join over 21,000,000 of our fans and download ...</td>\n",
       "      <td>Mighty Mighty Good Games</td>\n",
       "      <td>4+</td>\n",
       "      <td>DA, NL, EN, FI, FR, DE, IT, JA, KO, NB, PL, PT...</td>\n",
       "      <td>9543680.0</td>\n",
       "      <td>Games</td>\n",
       "      <td>Games, Strategy, Entertainment, Puzzle</td>\n",
       "      <td>21/10/2008</td>\n",
       "      <td>30/05/2017</td>\n",
       "    </tr>\n",
       "    <tr>\n",
       "      <td>32</td>\n",
       "      <td>https://apps.apple.com/us/app/chess-genius/id2...</td>\n",
       "      <td>294631172</td>\n",
       "      <td>Chess Genius</td>\n",
       "      <td>NaN</td>\n",
       "      <td>https://is5-ssl.mzstatic.com/image/thumb/Purpl...</td>\n",
       "      <td>4.0</td>\n",
       "      <td>156.0</td>\n",
       "      <td>5.99</td>\n",
       "      <td>NaN</td>\n",
       "      <td>\"ChessGenius, award winning chess program. Sup...</td>\n",
       "      <td>Lang Software Limited</td>\n",
       "      <td>4+</td>\n",
       "      <td>EN, FR, DE, IT, ES</td>\n",
       "      <td>1751040.0</td>\n",
       "      <td>Games</td>\n",
       "      <td>Games, Strategy, Board, Entertainment</td>\n",
       "      <td>8/11/2008</td>\n",
       "      <td>5/08/2016</td>\n",
       "    </tr>\n",
       "  </tbody>\n",
       "</table>\n",
       "</div>"
      ],
      "text/plain": [
       "                                                  URL         ID  \\\n",
       "0    https://apps.apple.com/us/app/sudoku/id284921427  284921427   \n",
       "24  https://apps.apple.com/us/app/boomshine/id2922...  292242592   \n",
       "26  https://apps.apple.com/us/app/fieldrunners/id2...  292421271   \n",
       "30  https://apps.apple.com/us/app/expert-sudoku/id...  294193726   \n",
       "32  https://apps.apple.com/us/app/chess-genius/id2...  294631172   \n",
       "\n",
       "             Name Subtitle                                           Icon URL  \\\n",
       "0          Sudoku      NaN  https://is2-ssl.mzstatic.com/image/thumb/Purpl...   \n",
       "24      Boomshine      NaN  https://is3-ssl.mzstatic.com/image/thumb/Purpl...   \n",
       "26   Fieldrunners      NaN  https://is1-ssl.mzstatic.com/image/thumb/Purpl...   \n",
       "30  Expert Sudoku      NaN  https://is1-ssl.mzstatic.com/image/thumb/Purpl...   \n",
       "32   Chess Genius      NaN  https://is5-ssl.mzstatic.com/image/thumb/Purpl...   \n",
       "\n",
       "    Average User Rating  User Rating Count  Price        In-app Purchases  \\\n",
       "0                   4.0             3553.0   2.99                     NaN   \n",
       "24                  4.0              637.0   0.99                     NaN   \n",
       "26                  4.0            41869.0   2.99  0.99, 0.99, 0.99, 0.99   \n",
       "30                  4.0              523.0   2.99                     NaN   \n",
       "32                  4.0              156.0   5.99                     NaN   \n",
       "\n",
       "                                          Description  \\\n",
       "0   Join over 21,000,000 of our fans and download ...   \n",
       "24  Boomshine is an addictive casual game. Touch t...   \n",
       "26  OVERVIEW\\n\\nThe invasion begins!  Pint sized s...   \n",
       "30  Join over 21,000,000 of our fans and download ...   \n",
       "32  \"ChessGenius, award winning chess program. Sup...   \n",
       "\n",
       "                   Developer Age Rating  \\\n",
       "0   Mighty Mighty Good Games         4+   \n",
       "24  TwoDesk Software Company         4+   \n",
       "26    Subatomic Studios, LLC         9+   \n",
       "30  Mighty Mighty Good Games         4+   \n",
       "32     Lang Software Limited         4+   \n",
       "\n",
       "                                            Languages        Size  \\\n",
       "0   DA, NL, EN, FI, FR, DE, IT, JA, KO, NB, PL, PT...  15853568.0   \n",
       "24                                                 EN  22873088.0   \n",
       "26                                                 EN  75041792.0   \n",
       "30  DA, NL, EN, FI, FR, DE, IT, JA, KO, NB, PL, PT...   9543680.0   \n",
       "32                                 EN, FR, DE, IT, ES   1751040.0   \n",
       "\n",
       "   Primary Genre                                  Genres  \\\n",
       "0          Games                 Games, Strategy, Puzzle   \n",
       "24         Games  Games, Puzzle, Entertainment, Strategy   \n",
       "26         Games  Games, Entertainment, Action, Strategy   \n",
       "30         Games  Games, Strategy, Entertainment, Puzzle   \n",
       "32         Games   Games, Strategy, Board, Entertainment   \n",
       "\n",
       "   Original Release Date Current Version Release Date  \n",
       "0             11/07/2008                   30/05/2017  \n",
       "24             7/10/2008                   20/05/2017  \n",
       "26             5/10/2008                   11/04/2018  \n",
       "30            21/10/2008                   30/05/2017  \n",
       "32             8/11/2008                    5/08/2016  "
      ]
     },
     "execution_count": 95,
     "metadata": {},
     "output_type": "execute_result"
    }
   ],
   "source": [
    "data = pd.read_csv('Verzeo/appstore_games.csv')\n",
    "data[data['Average User Rating']>=4].head()\n"
   ]
  },
  {
   "cell_type": "code",
   "execution_count": null,
   "metadata": {},
   "outputs": [],
   "source": [
    "county = census_df[census_df['STNAME'] == 'Texas']\n",
    "county.sort_values('CENSUS2010POP', ascending=False, inplace=True)\n",
    "county=county[:3]\n",
    "totpop = sum(county['CENSUS2010POP'])\n",
    "totpop"
   ]
  },
  {
   "cell_type": "markdown",
   "metadata": {},
   "source": [
    "Selecting only free apps"
   ]
  },
  {
   "cell_type": "code",
   "execution_count": 90,
   "metadata": {},
   "outputs": [
    {
     "data": {
      "text/html": [
       "<div>\n",
       "<style scoped>\n",
       "    .dataframe tbody tr th:only-of-type {\n",
       "        vertical-align: middle;\n",
       "    }\n",
       "\n",
       "    .dataframe tbody tr th {\n",
       "        vertical-align: top;\n",
       "    }\n",
       "\n",
       "    .dataframe thead th {\n",
       "        text-align: right;\n",
       "    }\n",
       "</style>\n",
       "<table border=\"1\" class=\"dataframe\">\n",
       "  <thead>\n",
       "    <tr style=\"text-align: right;\">\n",
       "      <th></th>\n",
       "      <th>URL</th>\n",
       "      <th>ID</th>\n",
       "      <th>Name</th>\n",
       "      <th>Subtitle</th>\n",
       "      <th>Icon URL</th>\n",
       "      <th>Average User Rating</th>\n",
       "      <th>User Rating Count</th>\n",
       "      <th>Price</th>\n",
       "      <th>In-app Purchases</th>\n",
       "      <th>Description</th>\n",
       "      <th>Developer</th>\n",
       "      <th>Age Rating</th>\n",
       "      <th>Languages</th>\n",
       "      <th>Size</th>\n",
       "      <th>Primary Genre</th>\n",
       "      <th>Genres</th>\n",
       "      <th>Original Release Date</th>\n",
       "      <th>Current Version Release Date</th>\n",
       "    </tr>\n",
       "  </thead>\n",
       "  <tbody>\n",
       "    <tr>\n",
       "      <td>2</td>\n",
       "      <td>https://apps.apple.com/us/app/morocco/id284946595</td>\n",
       "      <td>284946595</td>\n",
       "      <td>Morocco</td>\n",
       "      <td>NaN</td>\n",
       "      <td>https://is5-ssl.mzstatic.com/image/thumb/Purpl...</td>\n",
       "      <td>3.0</td>\n",
       "      <td>8376.0</td>\n",
       "      <td>0.0</td>\n",
       "      <td>NaN</td>\n",
       "      <td>Play the classic strategy game Othello (also k...</td>\n",
       "      <td>Bayou Games</td>\n",
       "      <td>4+</td>\n",
       "      <td>EN</td>\n",
       "      <td>674816.0</td>\n",
       "      <td>Games</td>\n",
       "      <td>Games, Board, Strategy</td>\n",
       "      <td>11/07/2008</td>\n",
       "      <td>5/09/2017</td>\n",
       "    </tr>\n",
       "    <tr>\n",
       "      <td>3</td>\n",
       "      <td>https://apps.apple.com/us/app/sudoku-free/id28...</td>\n",
       "      <td>285755462</td>\n",
       "      <td>Sudoku (Free)</td>\n",
       "      <td>NaN</td>\n",
       "      <td>https://is3-ssl.mzstatic.com/image/thumb/Purpl...</td>\n",
       "      <td>3.5</td>\n",
       "      <td>190394.0</td>\n",
       "      <td>0.0</td>\n",
       "      <td>NaN</td>\n",
       "      <td>Top 100 free app for over a year.\\nRated \"Best...</td>\n",
       "      <td>Mighty Mighty Good Games</td>\n",
       "      <td>4+</td>\n",
       "      <td>DA, NL, EN, FI, FR, DE, IT, JA, KO, NB, PL, PT...</td>\n",
       "      <td>21552128.0</td>\n",
       "      <td>Games</td>\n",
       "      <td>Games, Strategy, Puzzle</td>\n",
       "      <td>23/07/2008</td>\n",
       "      <td>30/05/2017</td>\n",
       "    </tr>\n",
       "    <tr>\n",
       "      <td>5</td>\n",
       "      <td>https://apps.apple.com/us/app/sudoku-classic-n...</td>\n",
       "      <td>286210009</td>\n",
       "      <td>Sudoku - Classic number puzzle</td>\n",
       "      <td>Original brain training</td>\n",
       "      <td>https://is1-ssl.mzstatic.com/image/thumb/Purpl...</td>\n",
       "      <td>3.0</td>\n",
       "      <td>47.0</td>\n",
       "      <td>0.0</td>\n",
       "      <td>1.99</td>\n",
       "      <td>Sudoku will tease your brain, challenge you or...</td>\n",
       "      <td>OutOfTheBit Ltd</td>\n",
       "      <td>4+</td>\n",
       "      <td>EN</td>\n",
       "      <td>48672768.0</td>\n",
       "      <td>Games</td>\n",
       "      <td>Games, Entertainment, Strategy, Puzzle</td>\n",
       "      <td>30/07/2008</td>\n",
       "      <td>29/04/2019</td>\n",
       "    </tr>\n",
       "    <tr>\n",
       "      <td>6</td>\n",
       "      <td>https://apps.apple.com/us/app/gravitation/id28...</td>\n",
       "      <td>286313771</td>\n",
       "      <td>Gravitation</td>\n",
       "      <td>NaN</td>\n",
       "      <td>https://is5-ssl.mzstatic.com/image/thumb/Purpl...</td>\n",
       "      <td>2.5</td>\n",
       "      <td>35.0</td>\n",
       "      <td>0.0</td>\n",
       "      <td>NaN</td>\n",
       "      <td>\"Gravitation is a new implementation of the pu...</td>\n",
       "      <td>Robert Farnum</td>\n",
       "      <td>4+</td>\n",
       "      <td>NaN</td>\n",
       "      <td>6328320.0</td>\n",
       "      <td>Games</td>\n",
       "      <td>Games, Entertainment, Puzzle, Strategy</td>\n",
       "      <td>30/07/2008</td>\n",
       "      <td>14/11/2013</td>\n",
       "    </tr>\n",
       "    <tr>\n",
       "      <td>8</td>\n",
       "      <td>https://apps.apple.com/us/app/carte/id286566987</td>\n",
       "      <td>286566987</td>\n",
       "      <td>Carte</td>\n",
       "      <td>NaN</td>\n",
       "      <td>https://is3-ssl.mzstatic.com/image/thumb/Purpl...</td>\n",
       "      <td>2.5</td>\n",
       "      <td>44.0</td>\n",
       "      <td>0.0</td>\n",
       "      <td>NaN</td>\n",
       "      <td>\"Jeu simple qui consiste \\xe0 trouver comment ...</td>\n",
       "      <td>Jean-Francois Pautex</td>\n",
       "      <td>4+</td>\n",
       "      <td>FR</td>\n",
       "      <td>2657280.0</td>\n",
       "      <td>Games</td>\n",
       "      <td>Games, Strategy, Board, Entertainment</td>\n",
       "      <td>3/08/2008</td>\n",
       "      <td>23/11/2017</td>\n",
       "    </tr>\n",
       "    <tr>\n",
       "      <td>9</td>\n",
       "      <td>https://apps.apple.com/us/app/barrels-o-fun/id...</td>\n",
       "      <td>286682679</td>\n",
       "      <td>\"Barrels O' Fun\"</td>\n",
       "      <td>NaN</td>\n",
       "      <td>https://is4-ssl.mzstatic.com/image/thumb/Purpl...</td>\n",
       "      <td>2.5</td>\n",
       "      <td>184.0</td>\n",
       "      <td>0.0</td>\n",
       "      <td>NaN</td>\n",
       "      <td>Barrels O\\u2019 Fun is a simple but challengin...</td>\n",
       "      <td>BesqWare</td>\n",
       "      <td>4+</td>\n",
       "      <td>EN</td>\n",
       "      <td>1466515.0</td>\n",
       "      <td>Games</td>\n",
       "      <td>Games, Casual, Strategy</td>\n",
       "      <td>1/08/2008</td>\n",
       "      <td>1/08/2008</td>\n",
       "    </tr>\n",
       "    <tr>\n",
       "      <td>10</td>\n",
       "      <td>https://apps.apple.com/us/app/quaddraxx/id2875...</td>\n",
       "      <td>287563734</td>\n",
       "      <td>Quaddraxx</td>\n",
       "      <td>NaN</td>\n",
       "      <td>https://is5-ssl.mzstatic.com/image/thumb/Purpl...</td>\n",
       "      <td>NaN</td>\n",
       "      <td>NaN</td>\n",
       "      <td>0.0</td>\n",
       "      <td>NaN</td>\n",
       "      <td>Quaddraxx-Logic \\u2013 Challenge your brain!\\n...</td>\n",
       "      <td>H2F Informationssysteme GmbH</td>\n",
       "      <td>4+</td>\n",
       "      <td>EN</td>\n",
       "      <td>3089867.0</td>\n",
       "      <td>Games</td>\n",
       "      <td>Games, Entertainment, Strategy, Puzzle</td>\n",
       "      <td>11/08/2008</td>\n",
       "      <td>30/09/2008</td>\n",
       "    </tr>\n",
       "    <tr>\n",
       "      <td>11</td>\n",
       "      <td>https://apps.apple.com/us/app/lumen-lite/id288...</td>\n",
       "      <td>288096268</td>\n",
       "      <td>Lumen Lite</td>\n",
       "      <td>NaN</td>\n",
       "      <td>https://is1-ssl.mzstatic.com/image/thumb/Purpl...</td>\n",
       "      <td>3.5</td>\n",
       "      <td>5072.0</td>\n",
       "      <td>0.0</td>\n",
       "      <td>NaN</td>\n",
       "      <td>\"The objective of Lumen is to light up all the...</td>\n",
       "      <td>Bridger Maxwell</td>\n",
       "      <td>4+</td>\n",
       "      <td>EN</td>\n",
       "      <td>7086403.0</td>\n",
       "      <td>Games</td>\n",
       "      <td>Games, Puzzle, Strategy</td>\n",
       "      <td>18/08/2008</td>\n",
       "      <td>22/11/2008</td>\n",
       "    </tr>\n",
       "    <tr>\n",
       "      <td>12</td>\n",
       "      <td>https://apps.apple.com/us/app/bubblepop/id2886...</td>\n",
       "      <td>288669794</td>\n",
       "      <td>BubblePop</td>\n",
       "      <td>NaN</td>\n",
       "      <td>https://is2-ssl.mzstatic.com/image/thumb/Purpl...</td>\n",
       "      <td>3.0</td>\n",
       "      <td>526.0</td>\n",
       "      <td>0.0</td>\n",
       "      <td>NaN</td>\n",
       "      <td>Are you ready for some popping?  Once you pop ...</td>\n",
       "      <td>TMSOFT</td>\n",
       "      <td>4+</td>\n",
       "      <td>EN</td>\n",
       "      <td>845008.0</td>\n",
       "      <td>Games</td>\n",
       "      <td>Games, Strategy, Entertainment</td>\n",
       "      <td>22/08/2008</td>\n",
       "      <td>25/07/2009</td>\n",
       "    </tr>\n",
       "    <tr>\n",
       "      <td>14</td>\n",
       "      <td>https://apps.apple.com/us/app/tetravex-lite/id...</td>\n",
       "      <td>288918962</td>\n",
       "      <td>Tetravex Lite</td>\n",
       "      <td>NaN</td>\n",
       "      <td>https://is3-ssl.mzstatic.com/image/thumb/Purpl...</td>\n",
       "      <td>2.5</td>\n",
       "      <td>2358.0</td>\n",
       "      <td>0.0</td>\n",
       "      <td>NaN</td>\n",
       "      <td>Play the classic edge matching puzzle game Tet...</td>\n",
       "      <td>Futrell Software</td>\n",
       "      <td>4+</td>\n",
       "      <td>EN</td>\n",
       "      <td>731525.0</td>\n",
       "      <td>Games</td>\n",
       "      <td>Games, Puzzle, Strategy, Entertainment</td>\n",
       "      <td>27/08/2008</td>\n",
       "      <td>21/10/2008</td>\n",
       "    </tr>\n",
       "  </tbody>\n",
       "</table>\n",
       "</div>"
      ],
      "text/plain": [
       "                                                  URL         ID  \\\n",
       "2   https://apps.apple.com/us/app/morocco/id284946595  284946595   \n",
       "3   https://apps.apple.com/us/app/sudoku-free/id28...  285755462   \n",
       "5   https://apps.apple.com/us/app/sudoku-classic-n...  286210009   \n",
       "6   https://apps.apple.com/us/app/gravitation/id28...  286313771   \n",
       "8     https://apps.apple.com/us/app/carte/id286566987  286566987   \n",
       "9   https://apps.apple.com/us/app/barrels-o-fun/id...  286682679   \n",
       "10  https://apps.apple.com/us/app/quaddraxx/id2875...  287563734   \n",
       "11  https://apps.apple.com/us/app/lumen-lite/id288...  288096268   \n",
       "12  https://apps.apple.com/us/app/bubblepop/id2886...  288669794   \n",
       "14  https://apps.apple.com/us/app/tetravex-lite/id...  288918962   \n",
       "\n",
       "                              Name                 Subtitle  \\\n",
       "2                          Morocco                      NaN   \n",
       "3                    Sudoku (Free)                      NaN   \n",
       "5   Sudoku - Classic number puzzle  Original brain training   \n",
       "6                      Gravitation                      NaN   \n",
       "8                            Carte                      NaN   \n",
       "9                 \"Barrels O' Fun\"                      NaN   \n",
       "10                       Quaddraxx                      NaN   \n",
       "11                      Lumen Lite                      NaN   \n",
       "12                       BubblePop                      NaN   \n",
       "14                   Tetravex Lite                      NaN   \n",
       "\n",
       "                                             Icon URL  Average User Rating  \\\n",
       "2   https://is5-ssl.mzstatic.com/image/thumb/Purpl...                  3.0   \n",
       "3   https://is3-ssl.mzstatic.com/image/thumb/Purpl...                  3.5   \n",
       "5   https://is1-ssl.mzstatic.com/image/thumb/Purpl...                  3.0   \n",
       "6   https://is5-ssl.mzstatic.com/image/thumb/Purpl...                  2.5   \n",
       "8   https://is3-ssl.mzstatic.com/image/thumb/Purpl...                  2.5   \n",
       "9   https://is4-ssl.mzstatic.com/image/thumb/Purpl...                  2.5   \n",
       "10  https://is5-ssl.mzstatic.com/image/thumb/Purpl...                  NaN   \n",
       "11  https://is1-ssl.mzstatic.com/image/thumb/Purpl...                  3.5   \n",
       "12  https://is2-ssl.mzstatic.com/image/thumb/Purpl...                  3.0   \n",
       "14  https://is3-ssl.mzstatic.com/image/thumb/Purpl...                  2.5   \n",
       "\n",
       "    User Rating Count  Price In-app Purchases  \\\n",
       "2              8376.0    0.0              NaN   \n",
       "3            190394.0    0.0              NaN   \n",
       "5                47.0    0.0             1.99   \n",
       "6                35.0    0.0              NaN   \n",
       "8                44.0    0.0              NaN   \n",
       "9               184.0    0.0              NaN   \n",
       "10                NaN    0.0              NaN   \n",
       "11             5072.0    0.0              NaN   \n",
       "12              526.0    0.0              NaN   \n",
       "14             2358.0    0.0              NaN   \n",
       "\n",
       "                                          Description  \\\n",
       "2   Play the classic strategy game Othello (also k...   \n",
       "3   Top 100 free app for over a year.\\nRated \"Best...   \n",
       "5   Sudoku will tease your brain, challenge you or...   \n",
       "6   \"Gravitation is a new implementation of the pu...   \n",
       "8   \"Jeu simple qui consiste \\xe0 trouver comment ...   \n",
       "9   Barrels O\\u2019 Fun is a simple but challengin...   \n",
       "10  Quaddraxx-Logic \\u2013 Challenge your brain!\\n...   \n",
       "11  \"The objective of Lumen is to light up all the...   \n",
       "12  Are you ready for some popping?  Once you pop ...   \n",
       "14  Play the classic edge matching puzzle game Tet...   \n",
       "\n",
       "                       Developer Age Rating  \\\n",
       "2                    Bayou Games         4+   \n",
       "3       Mighty Mighty Good Games         4+   \n",
       "5                OutOfTheBit Ltd         4+   \n",
       "6                  Robert Farnum         4+   \n",
       "8           Jean-Francois Pautex         4+   \n",
       "9                       BesqWare         4+   \n",
       "10  H2F Informationssysteme GmbH         4+   \n",
       "11               Bridger Maxwell         4+   \n",
       "12                        TMSOFT         4+   \n",
       "14              Futrell Software         4+   \n",
       "\n",
       "                                            Languages        Size  \\\n",
       "2                                                  EN    674816.0   \n",
       "3   DA, NL, EN, FI, FR, DE, IT, JA, KO, NB, PL, PT...  21552128.0   \n",
       "5                                                  EN  48672768.0   \n",
       "6                                                 NaN   6328320.0   \n",
       "8                                                  FR   2657280.0   \n",
       "9                                                  EN   1466515.0   \n",
       "10                                                 EN   3089867.0   \n",
       "11                                                 EN   7086403.0   \n",
       "12                                                 EN    845008.0   \n",
       "14                                                 EN    731525.0   \n",
       "\n",
       "   Primary Genre                                  Genres  \\\n",
       "2          Games                  Games, Board, Strategy   \n",
       "3          Games                 Games, Strategy, Puzzle   \n",
       "5          Games  Games, Entertainment, Strategy, Puzzle   \n",
       "6          Games  Games, Entertainment, Puzzle, Strategy   \n",
       "8          Games   Games, Strategy, Board, Entertainment   \n",
       "9          Games                 Games, Casual, Strategy   \n",
       "10         Games  Games, Entertainment, Strategy, Puzzle   \n",
       "11         Games                 Games, Puzzle, Strategy   \n",
       "12         Games          Games, Strategy, Entertainment   \n",
       "14         Games  Games, Puzzle, Strategy, Entertainment   \n",
       "\n",
       "   Original Release Date Current Version Release Date  \n",
       "2             11/07/2008                    5/09/2017  \n",
       "3             23/07/2008                   30/05/2017  \n",
       "5             30/07/2008                   29/04/2019  \n",
       "6             30/07/2008                   14/11/2013  \n",
       "8              3/08/2008                   23/11/2017  \n",
       "9              1/08/2008                    1/08/2008  \n",
       "10            11/08/2008                   30/09/2008  \n",
       "11            18/08/2008                   22/11/2008  \n",
       "12            22/08/2008                   25/07/2009  \n",
       "14            27/08/2008                   21/10/2008  "
      ]
     },
     "execution_count": 90,
     "metadata": {},
     "output_type": "execute_result"
    }
   ],
   "source": [
    "data = data[data['Price'] == 0]\n",
    "data.head(10)"
   ]
  },
  {
   "cell_type": "markdown",
   "metadata": {},
   "source": [
    "# Missing Values in Data Frames"
   ]
  },
  {
   "cell_type": "code",
   "execution_count": null,
   "metadata": {},
   "outputs": [],
   "source": [
    "import numpy as np\n",
    "def answer_three():\n",
    "    df['Relative'] = df['Difference']/df['Gold.2']\n",
    "    for ind in df.index:\n",
    "        if not(df['Gold'][ind] >= 1 and df['Gold.1'][ind] >=1):\n",
    "            df['Relative'][ind] = 0\n",
    "    return df['Relative'].idxmax()\n",
    "answer_three()"
   ]
  }
 ],
 "metadata": {
  "kernelspec": {
   "display_name": "Python 3",
   "language": "python",
   "name": "python3"
  },
  "language_info": {
   "codemirror_mode": {
    "name": "ipython",
    "version": 3
   },
   "file_extension": ".py",
   "mimetype": "text/x-python",
   "name": "python",
   "nbconvert_exporter": "python",
   "pygments_lexer": "ipython3",
   "version": "3.7.4"
  }
 },
 "nbformat": 4,
 "nbformat_minor": 2
}
