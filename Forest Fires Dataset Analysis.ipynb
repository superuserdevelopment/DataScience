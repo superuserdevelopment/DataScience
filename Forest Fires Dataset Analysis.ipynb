{
 "cells": [
  {
   "cell_type": "code",
   "execution_count": 6,
   "metadata": {},
   "outputs": [
    {
     "name": "stdout",
     "output_type": "stream",
     "text": [
      "odict_keys(['X', 'Y', 'month', 'day', 'FFMC', 'DMC', 'DC', 'ISI', 'temp', 'RH', 'wind', 'rain', 'area'])\n"
     ]
    }
   ],
   "source": [
    "# Reading and Writing datasets, csv files\n",
    "import csv\n",
    "with open('forestfires.csv') as csvfile:\n",
    "    data = list(csv.DictReader(csvfile))\n",
    "    \n",
    "print(data[0].keys())"
   ]
  },
  {
   "cell_type": "code",
   "execution_count": 13,
   "metadata": {},
   "outputs": [
    {
     "data": {
      "text/plain": [
       "18.8892"
      ]
     },
     "execution_count": 13,
     "metadata": {},
     "output_type": "execute_result"
    }
   ],
   "source": [
    "# finding average temperature\n",
    "round(sum(float(a['temp']) for a in data)/len(data),4)"
   ]
  },
  {
   "cell_type": "code",
   "execution_count": 15,
   "metadata": {},
   "outputs": [
    {
     "name": "stdout",
     "output_type": "stream",
     "text": [
      "{'tue', 'wed', 'sat', 'sun', 'thu', 'fri', 'mon'}\n",
      "{'oct', 'jan', 'aug', 'nov', 'feb', 'jul', 'sep', 'mar', 'jun', 'dec', 'may', 'apr'}\n"
     ]
    }
   ],
   "source": [
    "# finding different categories\n",
    "print(set(a['day'] for a in data))\n",
    "print(set(a['month'] for a in data))"
   ]
  },
  {
   "cell_type": "code",
   "execution_count": 24,
   "metadata": {},
   "outputs": [
    {
     "name": "stdout",
     "output_type": "stream",
     "text": [
      "Average for tue is 19.4391 *C\n",
      "Average for wed is 20.4278 *C\n",
      "Average for sat is 19.3488 *C\n",
      "Average for sun is 19.0653 *C\n",
      "Average for thu is 19.7049 *C\n",
      "Average for fri is 17.9482 *C\n",
      "Average for mon is 16.9514 *C\n",
      "[('tue', 19.4391), ('wed', 20.4278), ('sat', 19.3488), ('sun', 19.0653), ('thu', 19.7049), ('fri', 17.9482), ('mon', 16.9514)]\n"
     ]
    }
   ],
   "source": [
    "# Finding daywise average temperature\n",
    "days = set(a['day'] for a in data)\n",
    "tempbyday = []\n",
    "\n",
    "for day in days:\n",
    "    sum = 0\n",
    "    n = 0\n",
    "    for d in data:\n",
    "        if d['day'] == day:\n",
    "            sum = sum + float(d['temp'])\n",
    "            n+=1\n",
    "    tempbyday.append((day,round(sum/n,4)))\n",
    "    print('Average for', day,'is',round(sum/n,4),'*C')\n",
    "print(tempbyday)"
   ]
  },
  {
   "cell_type": "code",
   "execution_count": null,
   "metadata": {},
   "outputs": [],
   "source": []
  }
 ],
 "metadata": {
  "kernelspec": {
   "display_name": "Python 3",
   "language": "python",
   "name": "python3"
  },
  "language_info": {
   "codemirror_mode": {
    "name": "ipython",
    "version": 3
   },
   "file_extension": ".py",
   "mimetype": "text/x-python",
   "name": "python",
   "nbconvert_exporter": "python",
   "pygments_lexer": "ipython3",
   "version": "3.7.4"
  }
 },
 "nbformat": 4,
 "nbformat_minor": 2
}
