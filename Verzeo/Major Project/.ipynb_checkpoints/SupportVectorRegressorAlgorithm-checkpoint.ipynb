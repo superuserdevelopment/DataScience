{
 "cells": [
  {
   "cell_type": "markdown",
   "metadata": {},
   "source": [
    "## Data Cleaning"
   ]
  },
  {
   "cell_type": "code",
   "execution_count": 1,
   "metadata": {},
   "outputs": [
    {
     "data": {
      "text/html": [
       "<div>\n",
       "<style scoped>\n",
       "    .dataframe tbody tr th:only-of-type {\n",
       "        vertical-align: middle;\n",
       "    }\n",
       "\n",
       "    .dataframe tbody tr th {\n",
       "        vertical-align: top;\n",
       "    }\n",
       "\n",
       "    .dataframe thead th {\n",
       "        text-align: right;\n",
       "    }\n",
       "</style>\n",
       "<table border=\"1\" class=\"dataframe\">\n",
       "  <thead>\n",
       "    <tr style=\"text-align: right;\">\n",
       "      <th></th>\n",
       "      <th>Name</th>\n",
       "      <th>Location</th>\n",
       "      <th>Year</th>\n",
       "      <th>Kilometers_Driven</th>\n",
       "      <th>Fuel_Type</th>\n",
       "      <th>Transmission</th>\n",
       "      <th>Owner_Type</th>\n",
       "      <th>Seats</th>\n",
       "      <th>Price</th>\n",
       "      <th>Engine(CC)</th>\n",
       "      <th>Power(BHP)</th>\n",
       "      <th>Mileage</th>\n",
       "    </tr>\n",
       "  </thead>\n",
       "  <tbody>\n",
       "    <tr>\n",
       "      <td>0</td>\n",
       "      <td>Maruti Wagon R LXI CNG</td>\n",
       "      <td>Mumbai</td>\n",
       "      <td>2010</td>\n",
       "      <td>72000</td>\n",
       "      <td>CNG</td>\n",
       "      <td>Manual</td>\n",
       "      <td>First</td>\n",
       "      <td>5.0</td>\n",
       "      <td>1.75</td>\n",
       "      <td>998.0</td>\n",
       "      <td>58.16</td>\n",
       "      <td>26.60</td>\n",
       "    </tr>\n",
       "    <tr>\n",
       "      <td>1</td>\n",
       "      <td>Hyundai Creta 1.6 CRDi SX Option</td>\n",
       "      <td>Pune</td>\n",
       "      <td>2015</td>\n",
       "      <td>41000</td>\n",
       "      <td>Diesel</td>\n",
       "      <td>Manual</td>\n",
       "      <td>First</td>\n",
       "      <td>5.0</td>\n",
       "      <td>12.50</td>\n",
       "      <td>1582.0</td>\n",
       "      <td>126.20</td>\n",
       "      <td>19.67</td>\n",
       "    </tr>\n",
       "    <tr>\n",
       "      <td>2</td>\n",
       "      <td>Honda Jazz V</td>\n",
       "      <td>Chennai</td>\n",
       "      <td>2011</td>\n",
       "      <td>46000</td>\n",
       "      <td>Petrol</td>\n",
       "      <td>Manual</td>\n",
       "      <td>First</td>\n",
       "      <td>5.0</td>\n",
       "      <td>4.50</td>\n",
       "      <td>1199.0</td>\n",
       "      <td>88.70</td>\n",
       "      <td>18.20</td>\n",
       "    </tr>\n",
       "    <tr>\n",
       "      <td>3</td>\n",
       "      <td>Maruti Ertiga VDI</td>\n",
       "      <td>Chennai</td>\n",
       "      <td>2012</td>\n",
       "      <td>87000</td>\n",
       "      <td>Diesel</td>\n",
       "      <td>Manual</td>\n",
       "      <td>First</td>\n",
       "      <td>7.0</td>\n",
       "      <td>6.00</td>\n",
       "      <td>1248.0</td>\n",
       "      <td>88.76</td>\n",
       "      <td>20.77</td>\n",
       "    </tr>\n",
       "    <tr>\n",
       "      <td>4</td>\n",
       "      <td>Audi A4 New 2.0 TDI Multitronic</td>\n",
       "      <td>Coimbatore</td>\n",
       "      <td>2013</td>\n",
       "      <td>40670</td>\n",
       "      <td>Diesel</td>\n",
       "      <td>Automatic</td>\n",
       "      <td>Second</td>\n",
       "      <td>5.0</td>\n",
       "      <td>17.74</td>\n",
       "      <td>1968.0</td>\n",
       "      <td>140.80</td>\n",
       "      <td>15.20</td>\n",
       "    </tr>\n",
       "    <tr>\n",
       "      <td>...</td>\n",
       "      <td>...</td>\n",
       "      <td>...</td>\n",
       "      <td>...</td>\n",
       "      <td>...</td>\n",
       "      <td>...</td>\n",
       "      <td>...</td>\n",
       "      <td>...</td>\n",
       "      <td>...</td>\n",
       "      <td>...</td>\n",
       "      <td>...</td>\n",
       "      <td>...</td>\n",
       "      <td>...</td>\n",
       "    </tr>\n",
       "    <tr>\n",
       "      <td>6014</td>\n",
       "      <td>Maruti Swift VDI</td>\n",
       "      <td>Delhi</td>\n",
       "      <td>2014</td>\n",
       "      <td>27365</td>\n",
       "      <td>Diesel</td>\n",
       "      <td>Manual</td>\n",
       "      <td>First</td>\n",
       "      <td>5.0</td>\n",
       "      <td>4.75</td>\n",
       "      <td>1248.0</td>\n",
       "      <td>74.00</td>\n",
       "      <td>28.40</td>\n",
       "    </tr>\n",
       "    <tr>\n",
       "      <td>6015</td>\n",
       "      <td>Hyundai Xcent 1.1 CRDi S</td>\n",
       "      <td>Jaipur</td>\n",
       "      <td>2015</td>\n",
       "      <td>100000</td>\n",
       "      <td>Diesel</td>\n",
       "      <td>Manual</td>\n",
       "      <td>First</td>\n",
       "      <td>5.0</td>\n",
       "      <td>4.00</td>\n",
       "      <td>1120.0</td>\n",
       "      <td>71.00</td>\n",
       "      <td>24.40</td>\n",
       "    </tr>\n",
       "    <tr>\n",
       "      <td>6016</td>\n",
       "      <td>Mahindra Xylo D4 BSIV</td>\n",
       "      <td>Jaipur</td>\n",
       "      <td>2012</td>\n",
       "      <td>55000</td>\n",
       "      <td>Diesel</td>\n",
       "      <td>Manual</td>\n",
       "      <td>Second</td>\n",
       "      <td>8.0</td>\n",
       "      <td>2.90</td>\n",
       "      <td>2498.0</td>\n",
       "      <td>112.00</td>\n",
       "      <td>14.00</td>\n",
       "    </tr>\n",
       "    <tr>\n",
       "      <td>6017</td>\n",
       "      <td>Maruti Wagon R VXI</td>\n",
       "      <td>Kolkata</td>\n",
       "      <td>2013</td>\n",
       "      <td>46000</td>\n",
       "      <td>Petrol</td>\n",
       "      <td>Manual</td>\n",
       "      <td>First</td>\n",
       "      <td>5.0</td>\n",
       "      <td>2.65</td>\n",
       "      <td>998.0</td>\n",
       "      <td>67.10</td>\n",
       "      <td>18.90</td>\n",
       "    </tr>\n",
       "    <tr>\n",
       "      <td>6018</td>\n",
       "      <td>Chevrolet Beat Diesel</td>\n",
       "      <td>Hyderabad</td>\n",
       "      <td>2011</td>\n",
       "      <td>47000</td>\n",
       "      <td>Diesel</td>\n",
       "      <td>Manual</td>\n",
       "      <td>First</td>\n",
       "      <td>5.0</td>\n",
       "      <td>2.50</td>\n",
       "      <td>936.0</td>\n",
       "      <td>57.60</td>\n",
       "      <td>25.44</td>\n",
       "    </tr>\n",
       "  </tbody>\n",
       "</table>\n",
       "<p>5841 rows × 12 columns</p>\n",
       "</div>"
      ],
      "text/plain": [
       "                                  Name    Location  Year  Kilometers_Driven  \\\n",
       "0               Maruti Wagon R LXI CNG      Mumbai  2010              72000   \n",
       "1     Hyundai Creta 1.6 CRDi SX Option        Pune  2015              41000   \n",
       "2                         Honda Jazz V     Chennai  2011              46000   \n",
       "3                    Maruti Ertiga VDI     Chennai  2012              87000   \n",
       "4      Audi A4 New 2.0 TDI Multitronic  Coimbatore  2013              40670   \n",
       "...                                ...         ...   ...                ...   \n",
       "6014                  Maruti Swift VDI       Delhi  2014              27365   \n",
       "6015          Hyundai Xcent 1.1 CRDi S      Jaipur  2015             100000   \n",
       "6016             Mahindra Xylo D4 BSIV      Jaipur  2012              55000   \n",
       "6017                Maruti Wagon R VXI     Kolkata  2013              46000   \n",
       "6018             Chevrolet Beat Diesel   Hyderabad  2011              47000   \n",
       "\n",
       "     Fuel_Type Transmission Owner_Type  Seats  Price  Engine(CC)  Power(BHP)  \\\n",
       "0          CNG       Manual      First    5.0   1.75       998.0       58.16   \n",
       "1       Diesel       Manual      First    5.0  12.50      1582.0      126.20   \n",
       "2       Petrol       Manual      First    5.0   4.50      1199.0       88.70   \n",
       "3       Diesel       Manual      First    7.0   6.00      1248.0       88.76   \n",
       "4       Diesel    Automatic     Second    5.0  17.74      1968.0      140.80   \n",
       "...        ...          ...        ...    ...    ...         ...         ...   \n",
       "6014    Diesel       Manual      First    5.0   4.75      1248.0       74.00   \n",
       "6015    Diesel       Manual      First    5.0   4.00      1120.0       71.00   \n",
       "6016    Diesel       Manual     Second    8.0   2.90      2498.0      112.00   \n",
       "6017    Petrol       Manual      First    5.0   2.65       998.0       67.10   \n",
       "6018    Diesel       Manual      First    5.0   2.50       936.0       57.60   \n",
       "\n",
       "      Mileage  \n",
       "0       26.60  \n",
       "1       19.67  \n",
       "2       18.20  \n",
       "3       20.77  \n",
       "4       15.20  \n",
       "...       ...  \n",
       "6014    28.40  \n",
       "6015    24.40  \n",
       "6016    14.00  \n",
       "6017    18.90  \n",
       "6018    25.44  \n",
       "\n",
       "[5841 rows x 12 columns]"
      ]
     },
     "execution_count": 1,
     "metadata": {},
     "output_type": "execute_result"
    }
   ],
   "source": [
    "import pandas as pd\n",
    "import numpy as np\n",
    "import matplotlib.pyplot as plt\n",
    "from sklearn.linear_model import LinearRegression\n",
    "from sklearn import svm\n",
    "\n",
    "df1 = pd.read_excel('Data_Train.xlsx')\n",
    "df1 = pd.read_excel('Data_Train.xlsx',na_values=[np.nan])\n",
    "# Dropping New_Price due to irreglar Data\n",
    "df1 = df1.drop(['New_Price'],axis=1)\n",
    "df1 = df1.dropna()\n",
    "df1 = df1[df1['Engine'] != float]\n",
    "df1 = df1[df1['Power'] != float]\n",
    "Power = []\n",
    "Engine = []\n",
    "Mileage = []\n",
    "for ind in df1.index:\n",
    "    s = df1['Engine'][ind]\n",
    "    p = df1['Power'][ind]\n",
    "    m = df1['Mileage'][ind]\n",
    "    if(m == '0.0 kmpl'):\n",
    "        df1 = df1.drop(ind)\n",
    "        continue\n",
    "    if(type(s)!=float and type(p)!=float and type(m)!=float):\n",
    "        s = s.rsplit(' CC',1)[0] \n",
    "        p = p.rsplit(' bhp',1)[0] \n",
    "        m = m.rsplit(' k',1)[0] \n",
    "    if(s == 'null'or p =='null' or m =='null'):\n",
    "        df1 = df1.drop(ind)\n",
    "        continue\n",
    "    s = float(s)\n",
    "    p = float(p)\n",
    "    m = float(m)\n",
    "    Engine.append(s)\n",
    "    Power.append(p)\n",
    "    Mileage.append(m)\n",
    "df1 = df1.drop(['Engine'],axis=1)\n",
    "df1['Engine(CC)']=Engine\n",
    "df1 = df1.drop(['Power'],axis=1)\n",
    "df1['Power(BHP)'] = Power\n",
    "df1 = df1.drop(['Mileage'],axis=1)\n",
    "df1['Mileage'] = Mileage\n",
    "df1 = df1.dropna()\n",
    "df1 = df1[df1['Engine(CC)'] != float]\n",
    "df1 = df1[df1['Price']<100]\n",
    "df1"
   ]
  },
  {
   "cell_type": "markdown",
   "metadata": {},
   "source": [
    "# Support Vector RegressorAnalysis\n",
    "## x = Year y = Used Price"
   ]
  },
  {
   "cell_type": "code",
   "execution_count": 5,
   "metadata": {},
   "outputs": [
    {
     "name": "stderr",
     "output_type": "stream",
     "text": [
      "D:\\Anaconda\\lib\\site-packages\\sklearn\\utils\\validation.py:724: DataConversionWarning: A column-vector y was passed when a 1d array was expected. Please change the shape of y to (n_samples, ), for example using ravel().\n",
      "  y = column_or_1d(y, warn=True)\n",
      "D:\\Anaconda\\lib\\site-packages\\sklearn\\svm\\base.py:193: FutureWarning: The default value of gamma will change from 'auto' to 'scale' in version 0.22 to account better for unscaled features. Set gamma explicitly to 'auto' or 'scale' to avoid this warning.\n",
      "  \"avoid this warning.\", FutureWarning)\n"
     ]
    },
    {
     "data": {
      "image/png": "[encoded data removed]",
      "text/plain": [
       "<Figure size 432x288 with 1 Axes>"
      ]
     },
     "metadata": {
      "needs_background": "light"
     },
     "output_type": "display_data"
    },
    {
     "name": "stdout",
     "output_type": "stream",
     "text": [
      "R2 value is: -0.050080901323610545\n"
     ]
    }
   ],
   "source": [
    "df2 = df1[['Year','Price']]\n",
    "df2 = df2[df2['Price']<100]\n",
    "X = df2['Year'].values.reshape(-1,1)\n",
    "Y = df2['Price'].values.reshape(-1,1)\n",
    "linear_regressor = svm.SVR()\n",
    "linear_regressor.fit(X,Y)\n",
    "Y_pred = linear_regressor.predict(X)\n",
    "plt.scatter(X, Y)\n",
    "plt.plot(X, Y_pred, color='red')\n",
    "plt.show()\n",
    "r2 = linear_regressor.score(X,Y)\n",
    "print(\"R2 value is:\",r2)"
   ]
  },
  {
   "cell_type": "markdown",
   "metadata": {},
   "source": [
    "### Test Output Here\n",
    "Don't forget to execute the previous cell first"
   ]
  },
  {
   "cell_type": "code",
   "execution_count": 9,
   "metadata": {},
   "outputs": [
    {
     "name": "stdout",
     "output_type": "stream",
     "text": [
      "Enter a Year: 2010\n",
      "Predicted Price is: 3.0 Lakh Rupees\n"
     ]
    }
   ],
   "source": [
    "x_test = float(input(\"Enter a Year: \"))\n",
    "x_test = np.array(x_test)\n",
    "# x_test = np.array(2010)\n",
    "x_test = x_test.reshape(-1,1)\n",
    "y_pred = linear_regressor.predict(x_test)\n",
    "y_pred\n",
    "print(\"Predicted Price is:\",round(y_pred[0],2),\"Lakh Rupees\")"
   ]
  },
  {
   "cell_type": "markdown",
   "metadata": {},
   "source": [
    "## x = Kilometers_Driven y = used Price"
   ]
  },
  {
   "cell_type": "code",
   "execution_count": 10,
   "metadata": {},
   "outputs": [
    {
     "name": "stderr",
     "output_type": "stream",
     "text": [
      "D:\\Anaconda\\lib\\site-packages\\sklearn\\utils\\validation.py:724: DataConversionWarning: A column-vector y was passed when a 1d array was expected. Please change the shape of y to (n_samples, ), for example using ravel().\n",
      "  y = column_or_1d(y, warn=True)\n",
      "D:\\Anaconda\\lib\\site-packages\\sklearn\\svm\\base.py:193: FutureWarning: The default value of gamma will change from 'auto' to 'scale' in version 0.22 to account better for unscaled features. Set gamma explicitly to 'auto' or 'scale' to avoid this warning.\n",
      "  \"avoid this warning.\", FutureWarning)\n"
     ]
    },
    {
     "data": {
      "image/png": "[encoded data removed]",
      "text/plain": [
       "<Figure size 432x288 with 1 Axes>"
      ]
     },
     "metadata": {
      "needs_background": "light"
     },
     "output_type": "display_data"
    },
    {
     "name": "stdout",
     "output_type": "stream",
     "text": [
      "R2 value is: -0.057201338218147546\n"
     ]
    }
   ],
   "source": [
    "df2 = df1[['Kilometers_Driven','Price']]\n",
    "df2 = df2[df2['Kilometers_Driven']<250000]\n",
    "df2 = df2[df2['Price']<100]\n",
    "X = df2['Kilometers_Driven'].values.reshape(-1,1)\n",
    "Y = df2['Price'].values.reshape(-1,1)\n",
    "linear_regressor = svm.SVR()\n",
    "linear_regressor.fit(X,Y)\n",
    "Y_pred = linear_regressor.predict(X)\n",
    "plt.scatter(X, Y)\n",
    "plt.plot(X, Y_pred, color='red')\n",
    "plt.show()\n",
    "r2 = linear_regressor.score(X,Y)\n",
    "print(\"R2 value is:\",r2)"
   ]
  },
  {
   "cell_type": "markdown",
   "metadata": {},
   "source": [
    "### Test Output Here\n",
    "Don't forget to execute the previous cell first"
   ]
  },
  {
   "cell_type": "code",
   "execution_count": 11,
   "metadata": {},
   "outputs": [
    {
     "name": "stdout",
     "output_type": "stream",
     "text": [
      "Enter kilometers driven: 25000\n",
      "Predicted Price is: 6.85 Lakh Rupees\n"
     ]
    }
   ],
   "source": [
    "x_test = float(input(\"Enter kilometers driven: \"))\n",
    "x_test = np.array(x_test)\n",
    "# x_test = np.array(2010)\n",
    "x_test = x_test.reshape(-1,1)\n",
    "y_pred = linear_regressor.predict(x_test)\n",
    "y_pred\n",
    "print(\"Predicted Price is:\",round(y_pred[0],2),\"Lakh Rupees\")"
   ]
  },
  {
   "cell_type": "markdown",
   "metadata": {},
   "source": [
    "## x = Engine_size, y=price"
   ]
  },
  {
   "cell_type": "code",
   "execution_count": 12,
   "metadata": {},
   "outputs": [
    {
     "name": "stderr",
     "output_type": "stream",
     "text": [
      "D:\\Anaconda\\lib\\site-packages\\sklearn\\utils\\validation.py:724: DataConversionWarning: A column-vector y was passed when a 1d array was expected. Please change the shape of y to (n_samples, ), for example using ravel().\n",
      "  y = column_or_1d(y, warn=True)\n",
      "D:\\Anaconda\\lib\\site-packages\\sklearn\\svm\\base.py:193: FutureWarning: The default value of gamma will change from 'auto' to 'scale' in version 0.22 to account better for unscaled features. Set gamma explicitly to 'auto' or 'scale' to avoid this warning.\n",
      "  \"avoid this warning.\", FutureWarning)\n"
     ]
    },
    {
     "data": {
      "image/png": "[encoded data removed]",
      "text/plain": [
       "<Figure size 432x288 with 1 Axes>"
      ]
     },
     "metadata": {
      "needs_background": "light"
     },
     "output_type": "display_data"
    },
    {
     "name": "stdout",
     "output_type": "stream",
     "text": [
      "R2 value is: 0.5195006185154436\n"
     ]
    }
   ],
   "source": [
    "df2 = df1[['Engine(CC)','Price']]\n",
    "X = df2['Engine(CC)'].values.reshape(-1,1)\n",
    "Y = df2['Price'].values.reshape(-1,1)\n",
    "linear_regressor = svm.SVR()\n",
    "linear_regressor.fit(X,Y)\n",
    "Y_pred = linear_regressor.predict(X)\n",
    "plt.scatter(X, Y)\n",
    "plt.plot(X, Y_pred, color='red')\n",
    "plt.show()\n",
    "r2 = linear_regressor.score(X,Y)\n",
    "print(\"R2 value is:\",r2)"
   ]
  },
  {
   "cell_type": "markdown",
   "metadata": {},
   "source": [
    "### Test Output Here\n",
    "Don't forget to execute the previous cell first"
   ]
  },
  {
   "cell_type": "code",
   "execution_count": 14,
   "metadata": {},
   "outputs": [
    {
     "name": "stdout",
     "output_type": "stream",
     "text": [
      "Enter Engine Size in CC: 1500\n",
      "Predicted Price is: 8.38 Lakh Rupees\n"
     ]
    }
   ],
   "source": [
    "x_test = float(input(\"Enter Engine Size in CC: \"))\n",
    "x_test = np.array(x_test)\n",
    "# x_test = np.array(2010)\n",
    "x_test = x_test.reshape(-1,1)\n",
    "y_pred = linear_regressor.predict(x_test)\n",
    "y_pred\n",
    "print(\"Predicted Price is:\",round(y_pred[0],2),\"Lakh Rupees\")"
   ]
  },
  {
   "cell_type": "markdown",
   "metadata": {},
   "source": [
    "## x = Power, y=Price"
   ]
  },
  {
   "cell_type": "code",
   "execution_count": 15,
   "metadata": {},
   "outputs": [
    {
     "name": "stderr",
     "output_type": "stream",
     "text": [
      "D:\\Anaconda\\lib\\site-packages\\sklearn\\utils\\validation.py:724: DataConversionWarning: A column-vector y was passed when a 1d array was expected. Please change the shape of y to (n_samples, ), for example using ravel().\n",
      "  y = column_or_1d(y, warn=True)\n",
      "D:\\Anaconda\\lib\\site-packages\\sklearn\\svm\\base.py:193: FutureWarning: The default value of gamma will change from 'auto' to 'scale' in version 0.22 to account better for unscaled features. Set gamma explicitly to 'auto' or 'scale' to avoid this warning.\n",
      "  \"avoid this warning.\", FutureWarning)\n"
     ]
    },
    {
     "data": {
      "image/png": "[encoded data removed]",
      "text/plain": [
       "<Figure size 432x288 with 1 Axes>"
      ]
     },
     "metadata": {
      "needs_background": "light"
     },
     "output_type": "display_data"
    },
    {
     "name": "stdout",
     "output_type": "stream",
     "text": [
      "R2 value is: 0.5626687817483402\n"
     ]
    }
   ],
   "source": [
    "df2 = df1[['Power(BHP)','Price']]\n",
    "df2 = df2[df2['Power(BHP)'] != float]\n",
    "df2 = df2[df2['Price']<100]\n",
    "X = df2['Power(BHP)'].values.reshape(-1,1)\n",
    "Y = df2['Price'].values.reshape(-1,1)\n",
    "linear_regressor = svm.SVR()\n",
    "linear_regressor.fit(X,Y)\n",
    "Y_pred = linear_regressor.predict(X)\n",
    "plt.scatter(X, Y)\n",
    "plt.plot(X, Y_pred, color='red')\n",
    "plt.show()\n",
    "r2 = linear_regressor.score(X,Y)\n",
    "print(\"R2 value is:\",r2)"
   ]
  },
  {
   "cell_type": "markdown",
   "metadata": {},
   "source": [
    "### Test Output Here\n",
    "Don't forget to execute the previous cell first"
   ]
  },
  {
   "cell_type": "code",
   "execution_count": 16,
   "metadata": {},
   "outputs": [
    {
     "name": "stdout",
     "output_type": "stream",
     "text": [
      "Enter Power in bhp: 250\n",
      "Predicted Price is: 11.94 Lakh Rupees\n"
     ]
    }
   ],
   "source": [
    "x_test = float(input(\"Enter Power in bhp: \"))\n",
    "x_test = np.array(x_test)\n",
    "# x_test = np.array(2010)\n",
    "x_test = x_test.reshape(-1,1)\n",
    "y_pred = linear_regressor.predict(x_test)\n",
    "y_pred\n",
    "print(\"Predicted Price is:\",round(y_pred[0],2),\"Lakh Rupees\")"
   ]
  },
  {
   "cell_type": "markdown",
   "metadata": {},
   "source": [
    "df2 = df1[['Power','Price']]\n",
    "df2 = df2.dropna()\n",
    "df2 = df2[df2['Power'] != float]\n",
    "Engine = [];\n",
    "for ind in df2.index:\n",
    "    s = df2['Power'][ind]\n",
    "    \n",
    "    if(type(s)!=float):\n",
    "        s = s[:s.find(' ')]\n",
    "    if(s == 'null'):\n",
    "        df2 = df2.drop(ind)\n",
    "        continue\n",
    "    s = float(s)\n",
    "    Engine.append(s)\n",
    "df2['power']=Engine\n",
    "df2.drop(['Power'],axis=1)\n"
   ]
  },
  {
   "cell_type": "code",
   "execution_count": null,
   "metadata": {},
   "outputs": [],
   "source": []
  }
 ],
 "metadata": {
  "kernelspec": {
   "display_name": "Python 3",
   "language": "python",
   "name": "python3"
  },
  "language_info": {
   "codemirror_mode": {
    "name": "ipython",
    "version": 3
   },
   "file_extension": ".py",
   "mimetype": "text/x-python",
   "name": "python",
   "nbconvert_exporter": "python",
   "pygments_lexer": "ipython3",
   "version": "3.7.4"
  }
 },
 "nbformat": 4,
 "nbformat_minor": 2
}
