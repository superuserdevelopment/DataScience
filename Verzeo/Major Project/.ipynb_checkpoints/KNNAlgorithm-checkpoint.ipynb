{
 "cells": [
  {
   "cell_type": "code",
   "execution_count": 115,
   "metadata": {},
   "outputs": [
    {
     "data": {
      "text/html": [
       "<div>\n",
       "<style scoped>\n",
       "    .dataframe tbody tr th:only-of-type {\n",
       "        vertical-align: middle;\n",
       "    }\n",
       "\n",
       "    .dataframe tbody tr th {\n",
       "        vertical-align: top;\n",
       "    }\n",
       "\n",
       "    .dataframe thead th {\n",
       "        text-align: right;\n",
       "    }\n",
       "</style>\n",
       "<table border=\"1\" class=\"dataframe\">\n",
       "  <thead>\n",
       "    <tr style=\"text-align: right;\">\n",
       "      <th></th>\n",
       "      <th>Name</th>\n",
       "      <th>Location</th>\n",
       "      <th>Year</th>\n",
       "      <th>Kilometers_Driven</th>\n",
       "      <th>Fuel_Type</th>\n",
       "      <th>Transmission</th>\n",
       "      <th>Owner_Type</th>\n",
       "      <th>Seats</th>\n",
       "      <th>Price</th>\n",
       "      <th>Engine(CC)</th>\n",
       "      <th>Power(BHP)</th>\n",
       "      <th>Mileage</th>\n",
       "    </tr>\n",
       "  </thead>\n",
       "  <tbody>\n",
       "    <tr>\n",
       "      <td>0</td>\n",
       "      <td>Maruti Wagon R LXI CNG</td>\n",
       "      <td>Mumbai</td>\n",
       "      <td>2010</td>\n",
       "      <td>72000</td>\n",
       "      <td>CNG</td>\n",
       "      <td>Manual</td>\n",
       "      <td>First</td>\n",
       "      <td>5.0</td>\n",
       "      <td>1.75</td>\n",
       "      <td>998.0</td>\n",
       "      <td>58.16</td>\n",
       "      <td>26.60</td>\n",
       "    </tr>\n",
       "    <tr>\n",
       "      <td>1</td>\n",
       "      <td>Hyundai Creta 1.6 CRDi SX Option</td>\n",
       "      <td>Pune</td>\n",
       "      <td>2015</td>\n",
       "      <td>41000</td>\n",
       "      <td>Diesel</td>\n",
       "      <td>Manual</td>\n",
       "      <td>First</td>\n",
       "      <td>5.0</td>\n",
       "      <td>12.50</td>\n",
       "      <td>1582.0</td>\n",
       "      <td>126.20</td>\n",
       "      <td>19.67</td>\n",
       "    </tr>\n",
       "    <tr>\n",
       "      <td>2</td>\n",
       "      <td>Honda Jazz V</td>\n",
       "      <td>Chennai</td>\n",
       "      <td>2011</td>\n",
       "      <td>46000</td>\n",
       "      <td>Petrol</td>\n",
       "      <td>Manual</td>\n",
       "      <td>First</td>\n",
       "      <td>5.0</td>\n",
       "      <td>4.50</td>\n",
       "      <td>1199.0</td>\n",
       "      <td>88.70</td>\n",
       "      <td>18.20</td>\n",
       "    </tr>\n",
       "    <tr>\n",
       "      <td>3</td>\n",
       "      <td>Maruti Ertiga VDI</td>\n",
       "      <td>Chennai</td>\n",
       "      <td>2012</td>\n",
       "      <td>87000</td>\n",
       "      <td>Diesel</td>\n",
       "      <td>Manual</td>\n",
       "      <td>First</td>\n",
       "      <td>7.0</td>\n",
       "      <td>6.00</td>\n",
       "      <td>1248.0</td>\n",
       "      <td>88.76</td>\n",
       "      <td>20.77</td>\n",
       "    </tr>\n",
       "    <tr>\n",
       "      <td>4</td>\n",
       "      <td>Audi A4 New 2.0 TDI Multitronic</td>\n",
       "      <td>Coimbatore</td>\n",
       "      <td>2013</td>\n",
       "      <td>40670</td>\n",
       "      <td>Diesel</td>\n",
       "      <td>Automatic</td>\n",
       "      <td>Second</td>\n",
       "      <td>5.0</td>\n",
       "      <td>17.74</td>\n",
       "      <td>1968.0</td>\n",
       "      <td>140.80</td>\n",
       "      <td>15.20</td>\n",
       "    </tr>\n",
       "    <tr>\n",
       "      <td>...</td>\n",
       "      <td>...</td>\n",
       "      <td>...</td>\n",
       "      <td>...</td>\n",
       "      <td>...</td>\n",
       "      <td>...</td>\n",
       "      <td>...</td>\n",
       "      <td>...</td>\n",
       "      <td>...</td>\n",
       "      <td>...</td>\n",
       "      <td>...</td>\n",
       "      <td>...</td>\n",
       "      <td>...</td>\n",
       "    </tr>\n",
       "    <tr>\n",
       "      <td>6014</td>\n",
       "      <td>Maruti Swift VDI</td>\n",
       "      <td>Delhi</td>\n",
       "      <td>2014</td>\n",
       "      <td>27365</td>\n",
       "      <td>Diesel</td>\n",
       "      <td>Manual</td>\n",
       "      <td>First</td>\n",
       "      <td>5.0</td>\n",
       "      <td>4.75</td>\n",
       "      <td>1248.0</td>\n",
       "      <td>74.00</td>\n",
       "      <td>28.40</td>\n",
       "    </tr>\n",
       "    <tr>\n",
       "      <td>6015</td>\n",
       "      <td>Hyundai Xcent 1.1 CRDi S</td>\n",
       "      <td>Jaipur</td>\n",
       "      <td>2015</td>\n",
       "      <td>100000</td>\n",
       "      <td>Diesel</td>\n",
       "      <td>Manual</td>\n",
       "      <td>First</td>\n",
       "      <td>5.0</td>\n",
       "      <td>4.00</td>\n",
       "      <td>1120.0</td>\n",
       "      <td>71.00</td>\n",
       "      <td>24.40</td>\n",
       "    </tr>\n",
       "    <tr>\n",
       "      <td>6016</td>\n",
       "      <td>Mahindra Xylo D4 BSIV</td>\n",
       "      <td>Jaipur</td>\n",
       "      <td>2012</td>\n",
       "      <td>55000</td>\n",
       "      <td>Diesel</td>\n",
       "      <td>Manual</td>\n",
       "      <td>Second</td>\n",
       "      <td>8.0</td>\n",
       "      <td>2.90</td>\n",
       "      <td>2498.0</td>\n",
       "      <td>112.00</td>\n",
       "      <td>14.00</td>\n",
       "    </tr>\n",
       "    <tr>\n",
       "      <td>6017</td>\n",
       "      <td>Maruti Wagon R VXI</td>\n",
       "      <td>Kolkata</td>\n",
       "      <td>2013</td>\n",
       "      <td>46000</td>\n",
       "      <td>Petrol</td>\n",
       "      <td>Manual</td>\n",
       "      <td>First</td>\n",
       "      <td>5.0</td>\n",
       "      <td>2.65</td>\n",
       "      <td>998.0</td>\n",
       "      <td>67.10</td>\n",
       "      <td>18.90</td>\n",
       "    </tr>\n",
       "    <tr>\n",
       "      <td>6018</td>\n",
       "      <td>Chevrolet Beat Diesel</td>\n",
       "      <td>Hyderabad</td>\n",
       "      <td>2011</td>\n",
       "      <td>47000</td>\n",
       "      <td>Diesel</td>\n",
       "      <td>Manual</td>\n",
       "      <td>First</td>\n",
       "      <td>5.0</td>\n",
       "      <td>2.50</td>\n",
       "      <td>936.0</td>\n",
       "      <td>57.60</td>\n",
       "      <td>25.44</td>\n",
       "    </tr>\n",
       "  </tbody>\n",
       "</table>\n",
       "<p>5841 rows × 12 columns</p>\n",
       "</div>"
      ],
      "text/plain": [
       "                                  Name    Location  Year  Kilometers_Driven  \\\n",
       "0               Maruti Wagon R LXI CNG      Mumbai  2010              72000   \n",
       "1     Hyundai Creta 1.6 CRDi SX Option        Pune  2015              41000   \n",
       "2                         Honda Jazz V     Chennai  2011              46000   \n",
       "3                    Maruti Ertiga VDI     Chennai  2012              87000   \n",
       "4      Audi A4 New 2.0 TDI Multitronic  Coimbatore  2013              40670   \n",
       "...                                ...         ...   ...                ...   \n",
       "6014                  Maruti Swift VDI       Delhi  2014              27365   \n",
       "6015          Hyundai Xcent 1.1 CRDi S      Jaipur  2015             100000   \n",
       "6016             Mahindra Xylo D4 BSIV      Jaipur  2012              55000   \n",
       "6017                Maruti Wagon R VXI     Kolkata  2013              46000   \n",
       "6018             Chevrolet Beat Diesel   Hyderabad  2011              47000   \n",
       "\n",
       "     Fuel_Type Transmission Owner_Type  Seats  Price  Engine(CC)  Power(BHP)  \\\n",
       "0          CNG       Manual      First    5.0   1.75       998.0       58.16   \n",
       "1       Diesel       Manual      First    5.0  12.50      1582.0      126.20   \n",
       "2       Petrol       Manual      First    5.0   4.50      1199.0       88.70   \n",
       "3       Diesel       Manual      First    7.0   6.00      1248.0       88.76   \n",
       "4       Diesel    Automatic     Second    5.0  17.74      1968.0      140.80   \n",
       "...        ...          ...        ...    ...    ...         ...         ...   \n",
       "6014    Diesel       Manual      First    5.0   4.75      1248.0       74.00   \n",
       "6015    Diesel       Manual      First    5.0   4.00      1120.0       71.00   \n",
       "6016    Diesel       Manual     Second    8.0   2.90      2498.0      112.00   \n",
       "6017    Petrol       Manual      First    5.0   2.65       998.0       67.10   \n",
       "6018    Diesel       Manual      First    5.0   2.50       936.0       57.60   \n",
       "\n",
       "      Mileage  \n",
       "0       26.60  \n",
       "1       19.67  \n",
       "2       18.20  \n",
       "3       20.77  \n",
       "4       15.20  \n",
       "...       ...  \n",
       "6014    28.40  \n",
       "6015    24.40  \n",
       "6016    14.00  \n",
       "6017    18.90  \n",
       "6018    25.44  \n",
       "\n",
       "[5841 rows x 12 columns]"
      ]
     },
     "execution_count": 115,
     "metadata": {},
     "output_type": "execute_result"
    }
   ],
   "source": [
    "import pandas as pd\n",
    "import numpy as np\n",
    "from array import array\n",
    "import matplotlib.pyplot as plt\n",
    "from sklearn.linear_model import LinearRegression\n",
    "from sklearn.neighbors import KNeighborsClassifier \n",
    "from sklearn.model_selection import train_test_split \n",
    "from sklearn import neighbors\n",
    "from sklearn import preprocessing\n",
    "from sklearn import metrics\n",
    "# df1 = pd.read_excel('Data_Train.xlsx')\n",
    "df1 = pd.read_excel('Data_Train.xlsx',na_values=[np.nan])\n",
    "# Dropping New_Price due to irreglar Data\n",
    "df1 = df1.drop(['New_Price'],axis=1)\n",
    "df1 = df1.dropna()\n",
    "df1 = df1[df1['Engine'] != float]\n",
    "df1 = df1[df1['Power'] != float]\n",
    "Power = []\n",
    "Engine = []\n",
    "Mileage = []\n",
    "for ind in df1.index:\n",
    "    s = df1['Engine'][ind]\n",
    "    p = df1['Power'][ind]\n",
    "    m = df1['Mileage'][ind]\n",
    "    if(m == '0.0 kmpl'):\n",
    "        df1 = df1.drop(ind)\n",
    "        continue\n",
    "    if(type(s)!=float and type(p)!=float and type(m)!=float):\n",
    "        s = s.rsplit(' CC',1)[0] \n",
    "        p = p.rsplit(' bhp',1)[0] \n",
    "        m = m.rsplit(' k',1)[0] \n",
    "    if(s == 'null'or p =='null' or m =='null'):\n",
    "        df1 = df1.drop(ind)\n",
    "        continue\n",
    "    s = float(s)\n",
    "    p = float(p)\n",
    "    m = float(m)\n",
    "    Engine.append(s)\n",
    "    Power.append(p)\n",
    "    Mileage.append(m)\n",
    "df1 = df1.drop(['Engine'],axis=1)\n",
    "df1['Engine(CC)']=Engine\n",
    "df1 = df1.drop(['Power'],axis=1)\n",
    "df1['Power(BHP)'] = Power\n",
    "df1 = df1.drop(['Mileage'],axis=1)\n",
    "df1['Mileage'] = Mileage\n",
    "df1 = df1.dropna()\n",
    "df1 = df1[df1['Engine(CC)'] != float]\n",
    "df1 = df1[df1['Price']<100]\n",
    "df1"
   ]
  },
  {
   "cell_type": "markdown",
   "metadata": {},
   "source": [
    "## Transmission Type Prediction Using K-Nearest Neighbor Algorithm\n",
    "### Inputs:\n",
    "#### Mileage, Price\n",
    "### Output:\n",
    "#### Transmission Type (Automatic/Manual)"
   ]
  },
  {
   "cell_type": "code",
   "execution_count": 131,
   "metadata": {},
   "outputs": [
    {
     "data": {
      "image/png": "[encoded data removed]",
      "text/plain": [
       "<Figure size 432x288 with 1 Axes>"
      ]
     },
     "metadata": {
      "needs_background": "light"
     },
     "output_type": "display_data"
    },
    {
     "name": "stdout",
     "output_type": "stream",
     "text": [
      "1 is Manual and 0 is Automatic\n"
     ]
    },
    {
     "data": {
      "image/png": "[encoded data removed]",
      "text/plain": [
       "<Figure size 432x288 with 1 Axes>"
      ]
     },
     "metadata": {
      "needs_background": "light"
     },
     "output_type": "display_data"
    },
    {
     "name": "stdout",
     "output_type": "stream",
     "text": [
      "1 is Manual and 0 is Automatic\n"
     ]
    }
   ],
   "source": [
    "df2 = df1[['Name','Price','Mileage','Transmission']]\n",
    "#df2 = df2[df2['Fuel_Type'] !='CNG']\n",
    "X_prime = df2['Mileage'].values\n",
    "Y_prime = df2['Price'].values\n",
    "le = preprocessing.LabelEncoder()\n",
    "Z_prime = le.fit_transform(df2['Transmission'].values)\n",
    "#1 is Manual and 0 is Automatic\n",
    "plt.scatter(X_prime, Z_prime)\n",
    "plt.title('Mileage vs Transmission Type')\n",
    "plt.xlabel('Mileage')\n",
    "plt.ylabel('Transmission Type')\n",
    "plt.show()\n",
    "print('1 is Manual and 0 is Automatic')\n",
    "\n",
    "plt.scatter(Y_prime, Z_prime)\n",
    "plt.title('Price vs Transmission Type')\n",
    "plt.xlabel('Price in Lakh Rupees')\n",
    "plt.ylabel('Transmission Type')\n",
    "plt.show()\n",
    "print('1 is Manual and 0 is Automatic')"
   ]
  },
  {
   "cell_type": "code",
   "execution_count": 129,
   "metadata": {},
   "outputs": [
    {
     "name": "stdout",
     "output_type": "stream",
     "text": [
      "TRAINING DATASET DISTRIBUTION\n"
     ]
    },
    {
     "data": {
      "image/png": "[encoded data removed]",
      "text/plain": [
       "<Figure size 432x288 with 1 Axes>"
      ]
     },
     "metadata": {
      "needs_background": "light"
     },
     "output_type": "display_data"
    },
    {
     "name": "stdout",
     "output_type": "stream",
     "text": [
      "TESTING DATASET DISTRIBUTION\n"
     ]
    },
    {
     "data": {
      "image/png": "[encoded data removed]",
      "text/plain": [
       "<Figure size 432x288 with 1 Axes>"
      ]
     },
     "metadata": {
      "needs_background": "light"
     },
     "output_type": "display_data"
    }
   ],
   "source": [
    "X_train,X_test,Y_train,Y_test,Z_train,Z_test = train_test_split(X_prime, Y_prime,Z_prime, test_size=0.33, random_state=42)\n",
    "print(\"TRAINING DATASET DISTRIBUTION\")\n",
    "plt.scatter(Y_train,X_train)\n",
    "plt.xlabel('Mileage')\n",
    "plt.ylabel('Price in Lakh Rupees')\n",
    "plt.show()\n",
    "print(\"TESTING DATASET DISTRIBUTION\")\n",
    "plt.scatter(Y_test,X_test)\n",
    "plt.xlabel('Mileage')\n",
    "plt.ylabel('Price in Lakh Rupees')\n",
    "plt.show()"
   ]
  },
  {
   "cell_type": "markdown",
   "metadata": {},
   "source": [
    "### Training the Model"
   ]
  },
  {
   "cell_type": "code",
   "execution_count": 99,
   "metadata": {},
   "outputs": [
    {
     "name": "stderr",
     "output_type": "stream",
     "text": [
      "D:\\Anaconda\\lib\\site-packages\\ipykernel_launcher.py:6: DataConversionWarning: A column-vector y was passed when a 1d array was expected. Please change the shape of y to (n_samples, ), for example using ravel().\n",
      "  \n"
     ]
    },
    {
     "data": {
      "text/plain": [
       "KNeighborsClassifier(algorithm='auto', leaf_size=30, metric='minkowski',\n",
       "                     metric_params=None, n_jobs=None, n_neighbors=5, p=2,\n",
       "                     weights='uniform')"
      ]
     },
     "execution_count": 99,
     "metadata": {},
     "output_type": "execute_result"
    }
   ],
   "source": [
    "#X_train = X_train.reshape(-1,1)\n",
    "Z_train=np.array(Z_train)\n",
    "Z_train = Z_train.reshape(-1,1)\n",
    "features=list(zip(X_train,Y_train))\n",
    "clf = neighbors.KNeighborsClassifier()\n",
    "clf.fit(features,Z_train)\n",
    "clf"
   ]
  },
  {
   "cell_type": "markdown",
   "metadata": {},
   "source": [
    "### Testing Accuracy of Trained Model"
   ]
  },
  {
   "cell_type": "code",
   "execution_count": 100,
   "metadata": {},
   "outputs": [
    {
     "name": "stdout",
     "output_type": "stream",
     "text": [
      "              precision    recall  f1-score   support\n",
      "\n",
      "           0       0.82      0.68      0.74       570\n",
      "           1       0.87      0.94      0.91      1358\n",
      "\n",
      "    accuracy                           0.86      1928\n",
      "   macro avg       0.85      0.81      0.82      1928\n",
      "weighted avg       0.86      0.86      0.86      1928\n",
      "\n"
     ]
    }
   ],
   "source": [
    "features=list(zip(X_test,Y_test))\n",
    "Z_predict = clf.predict(features)\n",
    "print(metrics.classification_report(Z_test,Z_predict))"
   ]
  },
  {
   "cell_type": "markdown",
   "metadata": {},
   "source": [
    "### Test with your values here:"
   ]
  },
  {
   "cell_type": "code",
   "execution_count": 103,
   "metadata": {},
   "outputs": [
    {
     "name": "stdout",
     "output_type": "stream",
     "text": [
      "Enter Mileage: 20\n",
      "Enter Price: 10\n",
      "Transmission Type: Manual\n"
     ]
    }
   ],
   "source": [
    "mileage = float(input('Enter Mileage: '))\n",
    "price = float(input('Enter Price: '))\n",
    "test_features = [[mileage,price]]\n",
    "if(clf.predict(test_features)[0]):\n",
    "    print(\"Transmission Type: Manual\")\n",
    "else:\n",
    "    print(\"Transmission Type: Automatic\")"
   ]
  },
  {
   "cell_type": "markdown",
   "metadata": {},
   "source": [
    "## Fuel Type Prediction Using K-Nearest Neighbor Algorithm\n",
    "### Inputs:\n",
    "#### Mileage, Engine displacement\n",
    "### Output:\n",
    "#### Fuel Type (Petrol/Diesel/CNG)"
   ]
  },
  {
   "cell_type": "code",
   "execution_count": 132,
   "metadata": {},
   "outputs": [
    {
     "data": {
      "image/png": "[encoded data removed]",
      "text/plain": [
       "<Figure size 432x288 with 1 Axes>"
      ]
     },
     "metadata": {
      "needs_background": "light"
     },
     "output_type": "display_data"
    },
    {
     "name": "stdout",
     "output_type": "stream",
     "text": [
      "Legend:  0 is CNG, 1 is Diesel and 2 is Petrol\n"
     ]
    },
    {
     "data": {
      "image/png": "[encoded data removed]",
      "text/plain": [
       "<Figure size 432x288 with 1 Axes>"
      ]
     },
     "metadata": {
      "needs_background": "light"
     },
     "output_type": "display_data"
    },
    {
     "name": "stdout",
     "output_type": "stream",
     "text": [
      "Legend:  0 is CNG, 1 is Diesel and 2 is Petrol\n"
     ]
    }
   ],
   "source": [
    "df2 = df1[['Name','Engine(CC)','Mileage','Fuel_Type']]\n",
    "df2 = df2[df2['Fuel_Type'] !='LPG']\n",
    "X_prime = df2['Mileage'].values\n",
    "Y_prime = df2['Engine(CC)'].values\n",
    "le = preprocessing.LabelEncoder()\n",
    "Z_prime = le.fit_transform(df2['Fuel_Type'].values)\n",
    "# 0 is CNG, 1 is Diesel and 2 is Petrol\n",
    "plt.title(\"Mileage vs Fuel Type\")\n",
    "plt.scatter(X_prime,Z_prime)\n",
    "plt.xlabel('Mileage')\n",
    "plt.ylabel('Fuel Type')\n",
    "plt.show()\n",
    "print('Legend:  0 is CNG, 1 is Diesel and 2 is Petrol')\n",
    "plt.title(\"Engine Displacement vs Fuel Type\")\n",
    "plt.scatter(Y_prime,Z_prime)\n",
    "plt.xlabel('Engine Displacement(CC)')\n",
    "plt.ylabel('Fuel Type')\n",
    "plt.show()\n",
    "print('Legend:  0 is CNG, 1 is Diesel and 2 is Petrol')"
   ]
  },
  {
   "cell_type": "code",
   "execution_count": 133,
   "metadata": {},
   "outputs": [
    {
     "data": {
      "image/png": "[encoded data removed]",
      "text/plain": [
       "<Figure size 432x288 with 1 Axes>"
      ]
     },
     "metadata": {
      "needs_background": "light"
     },
     "output_type": "display_data"
    },
    {
     "data": {
      "image/png": "[encoded data removed]",
      "text/plain": [
       "<Figure size 432x288 with 1 Axes>"
      ]
     },
     "metadata": {
      "needs_background": "light"
     },
     "output_type": "display_data"
    }
   ],
   "source": [
    "X_train,X_test,Y_train,Y_test,Z_train,Z_test = train_test_split(X_prime, Y_prime,Z_prime, test_size=0.33, random_state=42)\n",
    "# print(\"TRAINING DATASET DISTRIBUTION\")\n",
    "plt.scatter(Y_train,X_train)\n",
    "plt.title(\"TRAINING DATASET DISTRIBUTION\")\n",
    "plt.xlabel('Engine Displacement(CC)')\n",
    "plt.ylabel('Mileage')\n",
    "plt.show()\n",
    "#print(\"TESTING DATASET DISTRIBUTION\")\n",
    "plt.scatter(Y_test,X_test)\n",
    "plt.title(\"TESTING DATASET DISTRIBUTION\")\n",
    "plt.xlabel('Engine Displacement(CC)')\n",
    "plt.ylabel('Mileage')\n",
    "plt.show()"
   ]
  },
  {
   "cell_type": "markdown",
   "metadata": {},
   "source": [
    "### Training the model"
   ]
  },
  {
   "cell_type": "code",
   "execution_count": 120,
   "metadata": {},
   "outputs": [
    {
     "name": "stderr",
     "output_type": "stream",
     "text": [
      "D:\\Anaconda\\lib\\site-packages\\ipykernel_launcher.py:5: DataConversionWarning: A column-vector y was passed when a 1d array was expected. Please change the shape of y to (n_samples, ), for example using ravel().\n",
      "  \"\"\"\n"
     ]
    },
    {
     "data": {
      "text/plain": [
       "KNeighborsClassifier(algorithm='auto', leaf_size=30, metric='minkowski',\n",
       "                     metric_params=None, n_jobs=None, n_neighbors=5, p=2,\n",
       "                     weights='uniform')"
      ]
     },
     "execution_count": 120,
     "metadata": {},
     "output_type": "execute_result"
    }
   ],
   "source": [
    "Z_train=np.array(Z_train)\n",
    "Z_train = Z_train.reshape(-1,1)\n",
    "features=list(zip(X_train,Y_train))\n",
    "clf = neighbors.KNeighborsClassifier()\n",
    "clf.fit(features,Z_train)\n",
    "clf"
   ]
  },
  {
   "cell_type": "markdown",
   "metadata": {},
   "source": [
    "### Testing Accuracy of Trained Model"
   ]
  },
  {
   "cell_type": "code",
   "execution_count": 121,
   "metadata": {},
   "outputs": [
    {
     "name": "stdout",
     "output_type": "stream",
     "text": [
      "              precision    recall  f1-score   support\n",
      "\n",
      "           0       1.00      0.48      0.65        21\n",
      "           1       0.97      0.98      0.98      1025\n",
      "           2       0.97      0.97      0.97       879\n",
      "\n",
      "    accuracy                           0.97      1925\n",
      "   macro avg       0.98      0.81      0.86      1925\n",
      "weighted avg       0.97      0.97      0.97      1925\n",
      "\n"
     ]
    }
   ],
   "source": [
    "features=list(zip(X_test,Y_test))\n",
    "Z_predict = clf.predict(features)\n",
    "print(metrics.classification_report(Z_test,Z_predict))"
   ]
  },
  {
   "cell_type": "markdown",
   "metadata": {},
   "source": [
    "### Test with your values here:"
   ]
  },
  {
   "cell_type": "code",
   "execution_count": 123,
   "metadata": {},
   "outputs": [
    {
     "name": "stdout",
     "output_type": "stream",
     "text": [
      "Enter Mileage: 32.26\n",
      "Enter Engine Displacement in CC: 998\n",
      "Fuel Type: CNG\n"
     ]
    }
   ],
   "source": [
    "mileage = float(input('Enter Mileage: '))\n",
    "price = float(input('Enter Engine Displacement in CC: '))\n",
    "test_features = [[mileage,price]]\n",
    "if(clf.predict(test_features)[0] == 0):\n",
    "    print(\"Fuel Type: CNG\")\n",
    "elif(clf.predict(test_features)[0] == 1):\n",
    "    print(\"Fuel Type: Diesel\")\n",
    "else:\n",
    "    print(\"Fuel Type: Petrol\")"
   ]
  },
  {
   "cell_type": "code",
   "execution_count": null,
   "metadata": {},
   "outputs": [],
   "source": []
  }
 ],
 "metadata": {
  "kernelspec": {
   "display_name": "Python 3",
   "language": "python",
   "name": "python3"
  },
  "language_info": {
   "codemirror_mode": {
    "name": "ipython",
    "version": 3
   },
   "file_extension": ".py",
   "mimetype": "text/x-python",
   "name": "python",
   "nbconvert_exporter": "python",
   "pygments_lexer": "ipython3",
   "version": "3.7.4"
  }
 },
 "nbformat": 4,
 "nbformat_minor": 2
}
