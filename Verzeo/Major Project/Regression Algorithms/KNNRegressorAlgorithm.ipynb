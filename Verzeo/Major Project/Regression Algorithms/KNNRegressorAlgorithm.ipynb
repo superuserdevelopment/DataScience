{
 "cells": [
  {
   "cell_type": "markdown",
   "metadata": {},
   "source": [
    "## Data Cleaning"
   ]
  },
  {
   "cell_type": "code",
   "execution_count": 8,
   "metadata": {},
   "outputs": [
    {
     "data": {
      "text/html": [
       "<div>\n",
       "<style scoped>\n",
       "    .dataframe tbody tr th:only-of-type {\n",
       "        vertical-align: middle;\n",
       "    }\n",
       "\n",
       "    .dataframe tbody tr th {\n",
       "        vertical-align: top;\n",
       "    }\n",
       "\n",
       "    .dataframe thead th {\n",
       "        text-align: right;\n",
       "    }\n",
       "</style>\n",
       "<table border=\"1\" class=\"dataframe\">\n",
       "  <thead>\n",
       "    <tr style=\"text-align: right;\">\n",
       "      <th></th>\n",
       "      <th>Name</th>\n",
       "      <th>Location</th>\n",
       "      <th>Year</th>\n",
       "      <th>Kilometers_Driven</th>\n",
       "      <th>Fuel_Type</th>\n",
       "      <th>Transmission</th>\n",
       "      <th>Owner_Type</th>\n",
       "      <th>Seats</th>\n",
       "      <th>Price</th>\n",
       "      <th>Engine(CC)</th>\n",
       "      <th>Power(BHP)</th>\n",
       "      <th>Mileage</th>\n",
       "    </tr>\n",
       "  </thead>\n",
       "  <tbody>\n",
       "    <tr>\n",
       "      <td>0</td>\n",
       "      <td>Maruti Wagon R LXI CNG</td>\n",
       "      <td>Mumbai</td>\n",
       "      <td>2010</td>\n",
       "      <td>72000</td>\n",
       "      <td>CNG</td>\n",
       "      <td>Manual</td>\n",
       "      <td>First</td>\n",
       "      <td>5.0</td>\n",
       "      <td>1.75</td>\n",
       "      <td>998.0</td>\n",
       "      <td>58.16</td>\n",
       "      <td>26.60</td>\n",
       "    </tr>\n",
       "    <tr>\n",
       "      <td>1</td>\n",
       "      <td>Hyundai Creta 1.6 CRDi SX Option</td>\n",
       "      <td>Pune</td>\n",
       "      <td>2015</td>\n",
       "      <td>41000</td>\n",
       "      <td>Diesel</td>\n",
       "      <td>Manual</td>\n",
       "      <td>First</td>\n",
       "      <td>5.0</td>\n",
       "      <td>12.50</td>\n",
       "      <td>1582.0</td>\n",
       "      <td>126.20</td>\n",
       "      <td>19.67</td>\n",
       "    </tr>\n",
       "    <tr>\n",
       "      <td>2</td>\n",
       "      <td>Honda Jazz V</td>\n",
       "      <td>Chennai</td>\n",
       "      <td>2011</td>\n",
       "      <td>46000</td>\n",
       "      <td>Petrol</td>\n",
       "      <td>Manual</td>\n",
       "      <td>First</td>\n",
       "      <td>5.0</td>\n",
       "      <td>4.50</td>\n",
       "      <td>1199.0</td>\n",
       "      <td>88.70</td>\n",
       "      <td>18.20</td>\n",
       "    </tr>\n",
       "    <tr>\n",
       "      <td>3</td>\n",
       "      <td>Maruti Ertiga VDI</td>\n",
       "      <td>Chennai</td>\n",
       "      <td>2012</td>\n",
       "      <td>87000</td>\n",
       "      <td>Diesel</td>\n",
       "      <td>Manual</td>\n",
       "      <td>First</td>\n",
       "      <td>7.0</td>\n",
       "      <td>6.00</td>\n",
       "      <td>1248.0</td>\n",
       "      <td>88.76</td>\n",
       "      <td>20.77</td>\n",
       "    </tr>\n",
       "    <tr>\n",
       "      <td>4</td>\n",
       "      <td>Audi A4 New 2.0 TDI Multitronic</td>\n",
       "      <td>Coimbatore</td>\n",
       "      <td>2013</td>\n",
       "      <td>40670</td>\n",
       "      <td>Diesel</td>\n",
       "      <td>Automatic</td>\n",
       "      <td>Second</td>\n",
       "      <td>5.0</td>\n",
       "      <td>17.74</td>\n",
       "      <td>1968.0</td>\n",
       "      <td>140.80</td>\n",
       "      <td>15.20</td>\n",
       "    </tr>\n",
       "    <tr>\n",
       "      <td>...</td>\n",
       "      <td>...</td>\n",
       "      <td>...</td>\n",
       "      <td>...</td>\n",
       "      <td>...</td>\n",
       "      <td>...</td>\n",
       "      <td>...</td>\n",
       "      <td>...</td>\n",
       "      <td>...</td>\n",
       "      <td>...</td>\n",
       "      <td>...</td>\n",
       "      <td>...</td>\n",
       "      <td>...</td>\n",
       "    </tr>\n",
       "    <tr>\n",
       "      <td>6014</td>\n",
       "      <td>Maruti Swift VDI</td>\n",
       "      <td>Delhi</td>\n",
       "      <td>2014</td>\n",
       "      <td>27365</td>\n",
       "      <td>Diesel</td>\n",
       "      <td>Manual</td>\n",
       "      <td>First</td>\n",
       "      <td>5.0</td>\n",
       "      <td>4.75</td>\n",
       "      <td>1248.0</td>\n",
       "      <td>74.00</td>\n",
       "      <td>28.40</td>\n",
       "    </tr>\n",
       "    <tr>\n",
       "      <td>6015</td>\n",
       "      <td>Hyundai Xcent 1.1 CRDi S</td>\n",
       "      <td>Jaipur</td>\n",
       "      <td>2015</td>\n",
       "      <td>100000</td>\n",
       "      <td>Diesel</td>\n",
       "      <td>Manual</td>\n",
       "      <td>First</td>\n",
       "      <td>5.0</td>\n",
       "      <td>4.00</td>\n",
       "      <td>1120.0</td>\n",
       "      <td>71.00</td>\n",
       "      <td>24.40</td>\n",
       "    </tr>\n",
       "    <tr>\n",
       "      <td>6016</td>\n",
       "      <td>Mahindra Xylo D4 BSIV</td>\n",
       "      <td>Jaipur</td>\n",
       "      <td>2012</td>\n",
       "      <td>55000</td>\n",
       "      <td>Diesel</td>\n",
       "      <td>Manual</td>\n",
       "      <td>Second</td>\n",
       "      <td>8.0</td>\n",
       "      <td>2.90</td>\n",
       "      <td>2498.0</td>\n",
       "      <td>112.00</td>\n",
       "      <td>14.00</td>\n",
       "    </tr>\n",
       "    <tr>\n",
       "      <td>6017</td>\n",
       "      <td>Maruti Wagon R VXI</td>\n",
       "      <td>Kolkata</td>\n",
       "      <td>2013</td>\n",
       "      <td>46000</td>\n",
       "      <td>Petrol</td>\n",
       "      <td>Manual</td>\n",
       "      <td>First</td>\n",
       "      <td>5.0</td>\n",
       "      <td>2.65</td>\n",
       "      <td>998.0</td>\n",
       "      <td>67.10</td>\n",
       "      <td>18.90</td>\n",
       "    </tr>\n",
       "    <tr>\n",
       "      <td>6018</td>\n",
       "      <td>Chevrolet Beat Diesel</td>\n",
       "      <td>Hyderabad</td>\n",
       "      <td>2011</td>\n",
       "      <td>47000</td>\n",
       "      <td>Diesel</td>\n",
       "      <td>Manual</td>\n",
       "      <td>First</td>\n",
       "      <td>5.0</td>\n",
       "      <td>2.50</td>\n",
       "      <td>936.0</td>\n",
       "      <td>57.60</td>\n",
       "      <td>25.44</td>\n",
       "    </tr>\n",
       "  </tbody>\n",
       "</table>\n",
       "<p>5841 rows × 12 columns</p>\n",
       "</div>"
      ],
      "text/plain": [
       "                                  Name    Location  Year  Kilometers_Driven  \\\n",
       "0               Maruti Wagon R LXI CNG      Mumbai  2010              72000   \n",
       "1     Hyundai Creta 1.6 CRDi SX Option        Pune  2015              41000   \n",
       "2                         Honda Jazz V     Chennai  2011              46000   \n",
       "3                    Maruti Ertiga VDI     Chennai  2012              87000   \n",
       "4      Audi A4 New 2.0 TDI Multitronic  Coimbatore  2013              40670   \n",
       "...                                ...         ...   ...                ...   \n",
       "6014                  Maruti Swift VDI       Delhi  2014              27365   \n",
       "6015          Hyundai Xcent 1.1 CRDi S      Jaipur  2015             100000   \n",
       "6016             Mahindra Xylo D4 BSIV      Jaipur  2012              55000   \n",
       "6017                Maruti Wagon R VXI     Kolkata  2013              46000   \n",
       "6018             Chevrolet Beat Diesel   Hyderabad  2011              47000   \n",
       "\n",
       "     Fuel_Type Transmission Owner_Type  Seats  Price  Engine(CC)  Power(BHP)  \\\n",
       "0          CNG       Manual      First    5.0   1.75       998.0       58.16   \n",
       "1       Diesel       Manual      First    5.0  12.50      1582.0      126.20   \n",
       "2       Petrol       Manual      First    5.0   4.50      1199.0       88.70   \n",
       "3       Diesel       Manual      First    7.0   6.00      1248.0       88.76   \n",
       "4       Diesel    Automatic     Second    5.0  17.74      1968.0      140.80   \n",
       "...        ...          ...        ...    ...    ...         ...         ...   \n",
       "6014    Diesel       Manual      First    5.0   4.75      1248.0       74.00   \n",
       "6015    Diesel       Manual      First    5.0   4.00      1120.0       71.00   \n",
       "6016    Diesel       Manual     Second    8.0   2.90      2498.0      112.00   \n",
       "6017    Petrol       Manual      First    5.0   2.65       998.0       67.10   \n",
       "6018    Diesel       Manual      First    5.0   2.50       936.0       57.60   \n",
       "\n",
       "      Mileage  \n",
       "0       26.60  \n",
       "1       19.67  \n",
       "2       18.20  \n",
       "3       20.77  \n",
       "4       15.20  \n",
       "...       ...  \n",
       "6014    28.40  \n",
       "6015    24.40  \n",
       "6016    14.00  \n",
       "6017    18.90  \n",
       "6018    25.44  \n",
       "\n",
       "[5841 rows x 12 columns]"
      ]
     },
     "execution_count": 8,
     "metadata": {},
     "output_type": "execute_result"
    }
   ],
   "source": [
    "import pandas as pd\n",
    "import numpy as np\n",
    "import matplotlib.pyplot as plt\n",
    "from sklearn.linear_model import LinearRegression\n",
    "from sklearn import neighbors\n",
    "from sklearn.metrics import mean_squared_error \n",
    "from sklearn.model_selection import train_test_split\n",
    "from math import sqrt\n",
    "\n",
    "df1 = pd.read_excel('Data_Train.xlsx')\n",
    "df1 = pd.read_excel('Data_Train.xlsx',na_values=[np.nan])\n",
    "# Dropping New_Price due to irreglar Data\n",
    "df1 = df1.drop(['New_Price'],axis=1)\n",
    "df1 = df1.dropna()\n",
    "df1 = df1[df1['Engine'] != float]\n",
    "df1 = df1[df1['Power'] != float]\n",
    "Power = []\n",
    "Engine = []\n",
    "Mileage = []\n",
    "for ind in df1.index:\n",
    "    s = df1['Engine'][ind]\n",
    "    p = df1['Power'][ind]\n",
    "    m = df1['Mileage'][ind]\n",
    "    if(m == '0.0 kmpl'):\n",
    "        df1 = df1.drop(ind)\n",
    "        continue\n",
    "    if(type(s)!=float and type(p)!=float and type(m)!=float):\n",
    "        s = s.rsplit(' CC',1)[0] \n",
    "        p = p.rsplit(' bhp',1)[0] \n",
    "        m = m.rsplit(' k',1)[0] \n",
    "    if(s == 'null'or p =='null' or m =='null'):\n",
    "        df1 = df1.drop(ind)\n",
    "        continue\n",
    "    s = float(s)\n",
    "    p = float(p)\n",
    "    m = float(m)\n",
    "    Engine.append(s)\n",
    "    Power.append(p)\n",
    "    Mileage.append(m)\n",
    "df1 = df1.drop(['Engine'],axis=1)\n",
    "df1['Engine(CC)']=Engine\n",
    "df1 = df1.drop(['Power'],axis=1)\n",
    "df1['Power(BHP)'] = Power\n",
    "df1 = df1.drop(['Mileage'],axis=1)\n",
    "df1['Mileage'] = Mileage\n",
    "df1 = df1.dropna()\n",
    "df1 = df1[df1['Engine(CC)'] != float]\n",
    "df1 = df1[df1['Price']<100]\n",
    "df1"
   ]
  },
  {
   "cell_type": "markdown",
   "metadata": {},
   "source": [
    "# Simple Linear Regression Analysis\n",
    "## x = Year y = Used Price"
   ]
  },
  {
   "cell_type": "code",
   "execution_count": 15,
   "metadata": {},
   "outputs": [],
   "source": [
    "df2 = df1[['Year','Price']]\n",
    "df2 = df2[df2['Price']<100]\n",
    "X = df2['Year'].values.reshape(-1,1)\n",
    "Y = df2['Price'].values.reshape(-1,1)"
   ]
  },
  {
   "cell_type": "code",
   "execution_count": 16,
   "metadata": {},
   "outputs": [
    {
     "name": "stdout",
     "output_type": "stream",
     "text": [
      "RMSE value for k=  1 is: 24.280427483349268\n",
      "RMSE value for k=  2 is: 13.919883837376437\n",
      "RMSE value for k=  3 is: 12.346605448685052\n",
      "RMSE value for k=  4 is: 11.276425411674452\n",
      "RMSE value for k=  5 is: 10.962840457257679\n",
      "RMSE value for k=  6 is: 10.979741820322747\n",
      "RMSE value for k=  7 is: 10.831924884645504\n",
      "RMSE value for k=  8 is: 10.675216319083255\n",
      "RMSE value for k=  9 is: 10.762647122508001\n",
      "RMSE value for k=  10 is: 10.630684454633062\n",
      "RMSE value for k=  11 is: 10.541432672798596\n",
      "RMSE value for k=  12 is: 10.610997978673883\n",
      "RMSE value for k=  13 is: 10.555827514669797\n",
      "RMSE value for k=  14 is: 10.520940632343875\n",
      "RMSE value for k=  15 is: 10.519786981005817\n",
      "RMSE value for k=  16 is: 10.494972347611366\n",
      "RMSE value for k=  17 is: 10.45798984052612\n",
      "RMSE value for k=  18 is: 10.407823060486043\n",
      "RMSE value for k=  19 is: 10.418757810966374\n",
      "RMSE value for k=  20 is: 10.433400751376752\n"
     ]
    }
   ],
   "source": [
    "rmse_val = [] #to store rmse values for different k\n",
    "for K in range(20):\n",
    "    K = K+1\n",
    "    model = neighbors.KNeighborsRegressor(n_neighbors = K)\n",
    "\n",
    "    model.fit(X, Y)  #fit the model\n",
    "    pred=model.predict(X) #make prediction on test set\n",
    "    error = sqrt(mean_squared_error(Y,pred)) #calculate rmse\n",
    "    rmse_val.append(error) #store rmse values\n",
    "    print('RMSE value for k= ' , K , 'is:', error)"
   ]
  },
  {
   "cell_type": "code",
   "execution_count": 17,
   "metadata": {},
   "outputs": [
    {
     "data": {
      "text/plain": [
       "<matplotlib.axes._subplots.AxesSubplot at 0x2784c4bf588>"
      ]
     },
     "execution_count": 17,
     "metadata": {},
     "output_type": "execute_result"
    },
    {
     "data": {
      "image/png": "[encoded data removed]",
      "text/plain": [
       "<Figure size 432x288 with 1 Axes>"
      ]
     },
     "metadata": {
      "needs_background": "light"
     },
     "output_type": "display_data"
    }
   ],
   "source": [
    "#plotting the rmse values against k values\n",
    "curve = pd.DataFrame(rmse_val) #elbow curve \n",
    "curve.plot()"
   ]
  },
  {
   "cell_type": "markdown",
   "metadata": {},
   "source": [
    "#### When we take k=1, we get a very high RMSE value. The RMSE value decreases as we increase the k value. At k= 7, the RMSE is approximately 24.28042, and shoots up on further increasing the k value. We can safely say that k=18 will give us the best result in this case."
   ]
  },
  {
   "cell_type": "code",
   "execution_count": 18,
   "metadata": {},
   "outputs": [
    {
     "data": {
      "image/png": "[encoded data removed]",
      "text/plain": [
       "<Figure size 432x288 with 1 Axes>"
      ]
     },
     "metadata": {
      "needs_background": "light"
     },
     "output_type": "display_data"
    },
    {
     "name": "stdout",
     "output_type": "stream",
     "text": [
      "R2 value is: 0.08065734209634334\n"
     ]
    }
   ],
   "source": [
    "linear_regressor = neighbors.KNeighborsRegressor(n_neighbors = 18)\n",
    "linear_regressor.fit(X,Y)\n",
    "Y_pred = linear_regressor.predict(X)\n",
    "plt.scatter(X, Y)\n",
    "plt.plot(X, Y_pred, color='red')\n",
    "plt.show()\n",
    "r2 = linear_regressor.score(X,Y)\n",
    "print(\"R2 value is:\",r2)"
   ]
  },
  {
   "cell_type": "markdown",
   "metadata": {},
   "source": [
    "### Test Output Here\n",
    "Don't forget to execute the previous cell first"
   ]
  },
  {
   "cell_type": "code",
   "execution_count": 19,
   "metadata": {},
   "outputs": [
    {
     "name": "stdout",
     "output_type": "stream",
     "text": [
      "Enter a Year: 2010\n",
      "Predicted Price is: 3.62 Lakh Rupees\n"
     ]
    }
   ],
   "source": [
    "x_test = float(input(\"Enter a Year: \"))\n",
    "x_test = np.array(x_test)\n",
    "# x_test = np.array(2010)\n",
    "x_test = x_test.reshape(-1,1)\n",
    "y_pred = linear_regressor.predict(x_test)\n",
    "y_pred\n",
    "print(\"Predicted Price is:\",round(y_pred[0][0],2),\"Lakh Rupees\")"
   ]
  },
  {
   "cell_type": "markdown",
   "metadata": {},
   "source": [
    "## x = Kilometers_Driven y = used Price"
   ]
  },
  {
   "cell_type": "code",
   "execution_count": 25,
   "metadata": {},
   "outputs": [
    {
     "name": "stdout",
     "output_type": "stream",
     "text": [
      "RMSE value for k=  1 is: 10.650529017320283\n",
      "RMSE value for k=  2 is: 10.388002975074725\n",
      "RMSE value for k=  3 is: 10.310091642212704\n",
      "RMSE value for k=  4 is: 10.211209652860198\n",
      "RMSE value for k=  5 is: 10.17953713941904\n",
      "RMSE value for k=  6 is: 10.211119913639235\n",
      "RMSE value for k=  7 is: 10.222903048555164\n",
      "RMSE value for k=  8 is: 10.254147182398635\n",
      "RMSE value for k=  9 is: 10.316670436535894\n",
      "RMSE value for k=  10 is: 10.313986218217366\n",
      "RMSE value for k=  11 is: 10.369391228362304\n",
      "RMSE value for k=  12 is: 10.359504831894736\n",
      "RMSE value for k=  13 is: 10.378791457153543\n",
      "RMSE value for k=  14 is: 10.366507287812679\n",
      "RMSE value for k=  15 is: 10.364159840342603\n",
      "RMSE value for k=  16 is: 10.378382369000878\n",
      "RMSE value for k=  17 is: 10.373667129643703\n",
      "RMSE value for k=  18 is: 10.373045669971793\n",
      "RMSE value for k=  19 is: 10.383826240905782\n",
      "RMSE value for k=  20 is: 10.394368379956388\n"
     ]
    }
   ],
   "source": [
    "df2 = df1[['Kilometers_Driven','Price']]\n",
    "df2 = df2[df2['Kilometers_Driven']<250000]\n",
    "df2 = df2[df2['Price']<100]\n",
    "X = df2['Kilometers_Driven'].values.reshape(-1,1)\n",
    "Y = df2['Price'].values.reshape(-1,1)\n",
    "rmse_val = [] #to store rmse values for different k\n",
    "for K in range(20):\n",
    "    K = K+1\n",
    "    model = neighbors.KNeighborsRegressor(n_neighbors = K)\n",
    "\n",
    "    model.fit(X, Y)  #fit the model\n",
    "    pred=model.predict(X) #make prediction on test set\n",
    "    error = sqrt(mean_squared_error(Y,pred)) #calculate rmse\n",
    "    rmse_val.append(error) #store rmse values\n",
    "    print('RMSE value for k= ' , K , 'is:', error)"
   ]
  },
  {
   "cell_type": "code",
   "execution_count": 26,
   "metadata": {},
   "outputs": [
    {
     "data": {
      "text/plain": [
       "<matplotlib.axes._subplots.AxesSubplot at 0x2784d9f5988>"
      ]
     },
     "execution_count": 26,
     "metadata": {},
     "output_type": "execute_result"
    },
    {
     "data": {
      "image/png": "[encoded data removed]",
      "text/plain": [
       "<Figure size 432x288 with 1 Axes>"
      ]
     },
     "metadata": {
      "needs_background": "light"
     },
     "output_type": "display_data"
    }
   ],
   "source": [
    "#plotting the rmse values against k values\n",
    "curve = pd.DataFrame(rmse_val) #elbow curve \n",
    "curve.plot()"
   ]
  },
  {
   "cell_type": "markdown",
   "metadata": {},
   "source": [
    "#### When we take k=1, we get a very high RMSE value. The RMSE value decreases as we increase the k value. At k= 5, the RMSE is approximately 10.17953, and shoots up on further increasing the k value. We can safely say that k=5 will give us the best result in this case."
   ]
  },
  {
   "cell_type": "code",
   "execution_count": 29,
   "metadata": {},
   "outputs": [
    {
     "data": {
      "image/png": "[encoded data removed]",
      "text/plain": [
       "<Figure size 432x288 with 1 Axes>"
      ]
     },
     "metadata": {
      "needs_background": "light"
     },
     "output_type": "display_data"
    },
    {
     "name": "stdout",
     "output_type": "stream",
     "text": [
      "R2 value is: 0.11845431628725456\n"
     ]
    }
   ],
   "source": [
    "linear_regressor = neighbors.KNeighborsRegressor(n_neighbors = 5)\n",
    "linear_regressor.fit(X,Y)\n",
    "Y_pred = linear_regressor.predict(X)\n",
    "plt.scatter(X, Y)\n",
    "plt.plot(X, Y_pred, color='red')\n",
    "plt.show()\n",
    "r2 = linear_regressor.score(X,Y)\n",
    "print(\"R2 value is:\",r2)"
   ]
  },
  {
   "cell_type": "markdown",
   "metadata": {},
   "source": [
    "### Test Output Here\n",
    "Don't forget to execute the previous cell first"
   ]
  },
  {
   "cell_type": "code",
   "execution_count": 30,
   "metadata": {},
   "outputs": [
    {
     "name": "stdout",
     "output_type": "stream",
     "text": [
      "Enter kilometers driven: 25000\n",
      "Predicted Price is: 16.17 Lakh Rupees\n"
     ]
    }
   ],
   "source": [
    "x_test = float(input(\"Enter kilometers driven: \"))\n",
    "x_test = np.array(x_test)\n",
    "# x_test = np.array(2010)\n",
    "x_test = x_test.reshape(-1,1)\n",
    "y_pred = linear_regressor.predict(x_test)\n",
    "y_pred\n",
    "print(\"Predicted Price is:\",round(y_pred[0][0],2),\"Lakh Rupees\")"
   ]
  },
  {
   "cell_type": "markdown",
   "metadata": {},
   "source": [
    "## x = Engine_size, y=price"
   ]
  },
  {
   "cell_type": "code",
   "execution_count": 31,
   "metadata": {},
   "outputs": [
    {
     "name": "stdout",
     "output_type": "stream",
     "text": [
      "RMSE value for k=  1 is: 8.933938868430042\n",
      "RMSE value for k=  2 is: 7.610330583858837\n",
      "RMSE value for k=  3 is: 6.834837127956643\n",
      "RMSE value for k=  4 is: 6.846136943586058\n",
      "RMSE value for k=  5 is: 6.8551637957077185\n",
      "RMSE value for k=  6 is: 6.714620041955018\n",
      "RMSE value for k=  7 is: 6.712628915673023\n",
      "RMSE value for k=  8 is: 6.715007985364997\n",
      "RMSE value for k=  9 is: 6.772547995662665\n",
      "RMSE value for k=  10 is: 6.768635751310261\n",
      "RMSE value for k=  11 is: 6.815340218292226\n",
      "RMSE value for k=  12 is: 6.766590018746174\n",
      "RMSE value for k=  13 is: 6.777669512453522\n",
      "RMSE value for k=  14 is: 6.762908665617765\n",
      "RMSE value for k=  15 is: 6.728852800099169\n",
      "RMSE value for k=  16 is: 6.726649801044394\n",
      "RMSE value for k=  17 is: 6.741447081740461\n",
      "RMSE value for k=  18 is: 6.767776496889634\n",
      "RMSE value for k=  19 is: 6.79821659698564\n",
      "RMSE value for k=  20 is: 6.805308944735025\n"
     ]
    }
   ],
   "source": [
    "df2 = df1[['Engine(CC)','Price']]\n",
    "X = df2['Engine(CC)'].values.reshape(-1,1)\n",
    "Y = df2['Price'].values.reshape(-1,1)\n",
    "rmse_val = [] #to store rmse values for different k\n",
    "for K in range(20):\n",
    "    K = K+1\n",
    "    model = neighbors.KNeighborsRegressor(n_neighbors = K)\n",
    "\n",
    "    model.fit(X, Y)  #fit the model\n",
    "    pred=model.predict(X) #make prediction on test set\n",
    "    error = sqrt(mean_squared_error(Y,pred)) #calculate rmse\n",
    "    rmse_val.append(error) #store rmse values\n",
    "    print('RMSE value for k= ' , K , 'is:', error)"
   ]
  },
  {
   "cell_type": "code",
   "execution_count": 32,
   "metadata": {},
   "outputs": [
    {
     "data": {
      "text/plain": [
       "<matplotlib.axes._subplots.AxesSubplot at 0x2784dd73648>"
      ]
     },
     "execution_count": 32,
     "metadata": {},
     "output_type": "execute_result"
    },
    {
     "data": {
      "image/png": "[encoded data removed]",
      "text/plain": [
       "<Figure size 432x288 with 1 Axes>"
      ]
     },
     "metadata": {
      "needs_background": "light"
     },
     "output_type": "display_data"
    }
   ],
   "source": [
    "#plotting the rmse values against k values\n",
    "curve = pd.DataFrame(rmse_val) #elbow curve \n",
    "curve.plot()"
   ]
  },
  {
   "cell_type": "markdown",
   "metadata": {},
   "source": [
    "#### When we take k=1, we get a very high RMSE value. The RMSE value decreases as we increase the k value. At k= 2, the RMSE is approximately 7.61033, and shoots up on further increasing the k value. We can safely say that k=5 will give us the best result in this case."
   ]
  },
  {
   "cell_type": "code",
   "execution_count": 33,
   "metadata": {},
   "outputs": [
    {
     "data": {
      "image/png": "[encoded data removed]",
      "text/plain": [
       "<Figure size 432x288 with 1 Axes>"
      ]
     },
     "metadata": {
      "needs_background": "light"
     },
     "output_type": "display_data"
    },
    {
     "name": "stdout",
     "output_type": "stream",
     "text": [
      "R2 value is: 0.508453445551025\n"
     ]
    }
   ],
   "source": [
    "linear_regressor = neighbors.KNeighborsRegressor(n_neighbors = 2)\n",
    "linear_regressor.fit(X,Y)\n",
    "Y_pred = linear_regressor.predict(X)\n",
    "plt.scatter(X, Y)\n",
    "plt.plot(X, Y_pred, color='red')\n",
    "plt.show()\n",
    "r2 = linear_regressor.score(X,Y)\n",
    "print(\"R2 value is:\",r2)"
   ]
  },
  {
   "cell_type": "markdown",
   "metadata": {},
   "source": [
    "### Test Output Here\n",
    "Don't forget to execute the previous cell first"
   ]
  },
  {
   "cell_type": "code",
   "execution_count": 34,
   "metadata": {},
   "outputs": [
    {
     "name": "stdout",
     "output_type": "stream",
     "text": [
      "Enter Engine Size in CC: 1500\n",
      "Predicted Price is: 6.28 Lakh Rupees\n"
     ]
    }
   ],
   "source": [
    "x_test = float(input(\"Enter Engine Size in CC: \"))\n",
    "x_test = np.array(x_test)\n",
    "# x_test = np.array(2010)\n",
    "x_test = x_test.reshape(-1,1)\n",
    "y_pred = linear_regressor.predict(x_test)\n",
    "y_pred\n",
    "print(\"Predicted Price is:\",round(y_pred[0][0],2),\"Lakh Rupees\")"
   ]
  },
  {
   "cell_type": "markdown",
   "metadata": {},
   "source": [
    "## x = Power, y=Price"
   ]
  },
  {
   "cell_type": "code",
   "execution_count": 37,
   "metadata": {},
   "outputs": [
    {
     "name": "stdout",
     "output_type": "stream",
     "text": [
      "RMSE value for k=  1 is: 5.822055015366286\n",
      "RMSE value for k=  2 is: 5.420899307526888\n",
      "RMSE value for k=  3 is: 5.147087013011486\n",
      "RMSE value for k=  4 is: 5.033436939085294\n",
      "RMSE value for k=  5 is: 5.078333302705483\n",
      "RMSE value for k=  6 is: 5.0508587177659745\n",
      "RMSE value for k=  7 is: 5.077861935637729\n",
      "RMSE value for k=  8 is: 5.119598569906819\n",
      "RMSE value for k=  9 is: 5.166749097516938\n",
      "RMSE value for k=  10 is: 5.221380981474782\n",
      "RMSE value for k=  11 is: 5.223872054667394\n",
      "RMSE value for k=  12 is: 5.257805087254922\n",
      "RMSE value for k=  13 is: 5.277312509754174\n",
      "RMSE value for k=  14 is: 5.328918261469817\n",
      "RMSE value for k=  15 is: 5.334292009170034\n",
      "RMSE value for k=  16 is: 5.34652605413064\n",
      "RMSE value for k=  17 is: 5.377713968321276\n",
      "RMSE value for k=  18 is: 5.380206735824126\n",
      "RMSE value for k=  19 is: 5.392778517919751\n",
      "RMSE value for k=  20 is: 5.407105049114124\n"
     ]
    }
   ],
   "source": [
    "df2 = df1[['Power(BHP)','Price']]\n",
    "df2 = df2[df2['Power(BHP)'] != float]\n",
    "df2 = df2[df2['Price']<100]\n",
    "X = df2['Power(BHP)'].values.reshape(-1,1)\n",
    "Y = df2['Price'].values.reshape(-1,1)\n",
    "rmse_val = [] #to store rmse values for different k\n",
    "for K in range(20):\n",
    "    K = K+1\n",
    "    model = neighbors.KNeighborsRegressor(n_neighbors = K)\n",
    "\n",
    "    model.fit(X, Y)  #fit the model\n",
    "    pred=model.predict(X) #make prediction on test set\n",
    "    error = sqrt(mean_squared_error(Y,pred)) #calculate rmse\n",
    "    rmse_val.append(error) #store rmse values\n",
    "    print('RMSE value for k= ' , K , 'is:', error)"
   ]
  },
  {
   "cell_type": "code",
   "execution_count": 38,
   "metadata": {},
   "outputs": [
    {
     "data": {
      "text/plain": [
       "<matplotlib.axes._subplots.AxesSubplot at 0x2784c5564c8>"
      ]
     },
     "execution_count": 38,
     "metadata": {},
     "output_type": "execute_result"
    },
    {
     "data": {
      "image/png": "[encoded data removed]",
      "text/plain": [
       "<Figure size 432x288 with 1 Axes>"
      ]
     },
     "metadata": {
      "needs_background": "light"
     },
     "output_type": "display_data"
    }
   ],
   "source": [
    "#plotting the rmse values against k values\n",
    "curve = pd.DataFrame(rmse_val) #elbow curve \n",
    "curve.plot()"
   ]
  },
  {
   "cell_type": "markdown",
   "metadata": {},
   "source": [
    "#### When we take k=1, we get a very high RMSE value. The RMSE value decreases as we increase the k value. At k= 4, the RMSE is approximately 5.033436, and shoots up on further increasing the k value. We can safely say that k=4 will give us the best result in this case."
   ]
  },
  {
   "cell_type": "code",
   "execution_count": 39,
   "metadata": {},
   "outputs": [
    {
     "data": {
      "image/png": "[encoded data removed]",
      "text/plain": [
       "<Figure size 432x288 with 1 Axes>"
      ]
     },
     "metadata": {
      "needs_background": "light"
     },
     "output_type": "display_data"
    },
    {
     "name": "stdout",
     "output_type": "stream",
     "text": [
      "R2 value is: 0.7849760303494544\n"
     ]
    }
   ],
   "source": [
    "linear_regressor = neighbors.KNeighborsRegressor(n_neighbors = 4)\n",
    "linear_regressor.fit(X,Y)\n",
    "Y_pred = linear_regressor.predict(X)\n",
    "plt.scatter(X, Y)\n",
    "plt.plot(X, Y_pred, color='red')\n",
    "plt.show()\n",
    "r2 = linear_regressor.score(X,Y)\n",
    "print(\"R2 value is:\",r2)"
   ]
  },
  {
   "cell_type": "markdown",
   "metadata": {},
   "source": [
    "### Test Output Here\n",
    "Don't forget to execute the previous cell first"
   ]
  },
  {
   "cell_type": "code",
   "execution_count": 40,
   "metadata": {},
   "outputs": [
    {
     "name": "stdout",
     "output_type": "stream",
     "text": [
      "Enter Power in bhp: 250\n",
      "Predicted Price is: 27.88 Lakh Rupees\n"
     ]
    }
   ],
   "source": [
    "x_test = float(input(\"Enter Power in bhp: \"))\n",
    "x_test = np.array(x_test)\n",
    "# x_test = np.array(2010)\n",
    "x_test = x_test.reshape(-1,1)\n",
    "y_pred = linear_regressor.predict(x_test)\n",
    "y_pred\n",
    "print(\"Predicted Price is:\",round(y_pred[0][0],2),\"Lakh Rupees\")"
   ]
  }
 ],
 "metadata": {
  "kernelspec": {
   "display_name": "Python 3",
   "language": "python",
   "name": "python3"
  },
  "language_info": {
   "codemirror_mode": {
    "name": "ipython",
    "version": 3
   },
   "file_extension": ".py",
   "mimetype": "text/x-python",
   "name": "python",
   "nbconvert_exporter": "python",
   "pygments_lexer": "ipython3",
   "version": "3.7.4"
  }
 },
 "nbformat": 4,
 "nbformat_minor": 2
}
